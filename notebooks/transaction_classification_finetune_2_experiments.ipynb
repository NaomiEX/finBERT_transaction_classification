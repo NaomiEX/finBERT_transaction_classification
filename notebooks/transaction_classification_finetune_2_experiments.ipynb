{
 "cells": [
  {
   "cell_type": "code",
   "execution_count": 1,
   "metadata": {},
   "outputs": [],
   "source": [
    "%load_ext autoreload\n",
    "%autoreload 2\n",
    "\n",
    "from pathlib import Path\n",
    "import shutil\n",
    "import os\n",
    "import logging\n",
    "import sys\n",
    "sys.path.append('..')\n",
    "\n",
    "from textblob import TextBlob\n",
    "from pprint import pprint\n",
    "from sklearn.metrics import classification_report\n",
    "from sklearn.preprocessing import StandardScaler\n",
    "\n",
    "from transformers import AutoModelForSequenceClassification\n",
    "\n",
    "from finbert.finbert import *\n",
    "import finbert.utils as tools\n",
    "from finbert.custom_finbert import CustomFinBert\n",
    "\n",
    "project_dir = Path.cwd().parent\n",
    "pd.set_option('max_colwidth', -1)\n",
    "\n",
    "logging.basicConfig(format = '%(asctime)s - %(levelname)s - %(name)s -   %(message)s',\n",
    "                    datefmt = '%m/%d/%Y %H:%M:%S',\n",
    "                    level = logging.ERROR)"
   ]
  },
  {
   "cell_type": "code",
   "execution_count": 2,
   "metadata": {},
   "outputs": [],
   "source": [
    "standard_dir = project_dir.parent.parent"
   ]
  },
  {
   "cell_type": "markdown",
   "metadata": {},
   "source": [
    "# ! TODO: PUT THE PREPROCESSING CODE HERE AND STORE PROCESSED DF"
   ]
  },
  {
   "cell_type": "markdown",
   "metadata": {},
   "source": [
    "# Prepare model"
   ]
  },
  {
   "cell_type": "code",
   "execution_count": 3,
   "metadata": {},
   "outputs": [],
   "source": [
    "lm_path = project_dir/'models'/'language_model'/'finbertTRC2'\n",
    "final_model_dir = project_dir/'models'/'classification_model_lr_1e-4'\n",
    "data_dir = standard_dir/\"Data\"\n",
    "# classification_data_path= standard_dir/'Data'/'sentiment_data'"
   ]
  },
  {
   "cell_type": "markdown",
   "metadata": {},
   "source": [
    "## Configure training parameters"
   ]
  },
  {
   "cell_type": "code",
   "execution_count": 4,
   "metadata": {},
   "outputs": [
    {
     "name": "stderr",
     "output_type": "stream",
     "text": [
      "Some weights of the model checkpoint at /media/student/HDD 2/Michelle/MLS/advanced/finBERT_transaction_classification/models/language_model/finbertTRC2 were not used when initializing BertForSequenceClassification: ['cls.predictions.bias', 'cls.predictions.transform.dense.weight', 'cls.predictions.transform.dense.bias', 'cls.predictions.transform.LayerNorm.weight', 'cls.predictions.transform.LayerNorm.bias', 'cls.predictions.decoder.weight', 'cls.seq_relationship.weight', 'cls.seq_relationship.bias']\n",
      "- This IS expected if you are initializing BertForSequenceClassification from the checkpoint of a model trained on another task or with another architecture (e.g. initializing a BertForSequenceClassification model from a BertForPreTraining model).\n",
      "- This IS NOT expected if you are initializing BertForSequenceClassification from the checkpoint of a model that you expect to be exactly identical (initializing a BertForSequenceClassification model from a BertForSequenceClassification model).\n",
      "Some weights of BertForSequenceClassification were not initialized from the model checkpoint at /media/student/HDD 2/Michelle/MLS/advanced/finBERT_transaction_classification/models/language_model/finbertTRC2 and are newly initialized: ['classifier.weight', 'classifier.bias']\n",
      "You should probably TRAIN this model on a down-stream task to be able to use it for predictions and inference.\n"
     ]
    }
   ],
   "source": [
    "# Clean the cl_path\n",
    "try:\n",
    "    shutil.rmtree(final_model_dir) \n",
    "except:\n",
    "    pass\n",
    "\n",
    "## load the pretrained language model trained on Reuters TRC2\n",
    "bertmodel = AutoModelForSequenceClassification.from_pretrained(\n",
    "    lm_path, cache_dir=None, num_labels=30)"
   ]
  },
  {
   "cell_type": "code",
   "execution_count": 5,
   "metadata": {},
   "outputs": [],
   "source": [
    "custom_finbert = CustomFinBert(bertmodel, 38, 30, hidden_dims=[])"
   ]
  },
  {
   "cell_type": "code",
   "execution_count": 7,
   "metadata": {},
   "outputs": [],
   "source": [
    "config = Config(\n",
    "    data_dir=data_dir,\n",
    "    model_dir=final_model_dir,\n",
    "    bert_model=custom_finbert,\n",
    "    num_train_epochs=10,\n",
    "    max_seq_length=48,\n",
    "    train_batch_size=32,\n",
    "    learning_rate=1e-4,\n",
    "    output_mode=\"classification\",\n",
    "    warm_up_proportion=0.2,\n",
    "    local_rank=-1,\n",
    "    discriminate=True,\n",
    "    gradual_unfreeze=False,\n",
    "    numeric_params=38,\n",
    "    label_colname=\"category\"\n",
    ")"
   ]
  },
  {
   "cell_type": "code",
   "execution_count": 8,
   "metadata": {},
   "outputs": [],
   "source": [
    "finbert = FinBert(config, transaction_classification=True)"
   ]
  },
  {
   "cell_type": "code",
   "execution_count": 9,
   "metadata": {},
   "outputs": [],
   "source": [
    "y = pd.read_csv(standard_dir/\"Data\"/\"eval.csv\")[\"category\"]"
   ]
  },
  {
   "cell_type": "code",
   "execution_count": 10,
   "metadata": {},
   "outputs": [
    {
     "name": "stderr",
     "output_type": "stream",
     "text": [
      "07/18/2024 15:48:21 - INFO - finbert.finbert -   device: cuda n_gpu: 2, distributed training: False, 16-bits training: False\n"
     ]
    }
   ],
   "source": [
    "finbert.prepare_model(label_list=y.unique().tolist())"
   ]
  },
  {
   "cell_type": "code",
   "execution_count": 11,
   "metadata": {},
   "outputs": [],
   "source": [
    "train_examples, numeric_feats = finbert.get_data(\"train\")"
   ]
  },
  {
   "cell_type": "code",
   "execution_count": 12,
   "metadata": {},
   "outputs": [],
   "source": [
    "model = finbert.create_the_model()"
   ]
  },
  {
   "cell_type": "code",
   "execution_count": 13,
   "metadata": {},
   "outputs": [
    {
     "name": "stderr",
     "output_type": "stream",
     "text": [
      "07/18/2024 15:48:30 - INFO - finbert.utils -   *** Example ***\n",
      "07/18/2024 15:48:30 - INFO - finbert.utils -   guid: 0\n",
      "07/18/2024 15:48:30 - INFO - finbert.utils -   tokens: [CLS] ac ##h withdrawal am ##mar ##yse hem ##ant ##ne ##x ##press transfer [SEP]\n",
      "07/18/2024 15:48:30 - INFO - finbert.utils -   input_ids: 101 9353 2232 10534 2572 7849 23274 19610 4630 2638 2595 20110 4651 102 0 0 0 0 0 0 0 0 0 0 0 0 0 0 0 0 0 0 0 0 0 0 0 0 0 0 0 0 0 0 0 0 0 0\n",
      "07/18/2024 15:48:30 - INFO - finbert.utils -   attention_mask: 1 1 1 1 1 1 1 1 1 1 1 1 1 1 0 0 0 0 0 0 0 0 0 0 0 0 0 0 0 0 0 0 0 0 0 0 0 0 0 0 0 0 0 0 0 0 0 0\n",
      "07/18/2024 15:48:30 - INFO - finbert.utils -   token_type_ids: 0 0 0 0 0 0 0 0 0 0 0 0 0 0 0 0 0 0 0 0 0 0 0 0 0 0 0 0 0 0 0 0 0 0 0 0 0 0 0 0 0 0 0 0 0 0 0 0\n",
      "07/18/2024 15:48:30 - INFO - finbert.utils -   label: Transfer Debit (id = 2)\n",
      "07/18/2024 15:48:42 - INFO - finbert.finbert -   ***** Loading data *****\n",
      "07/18/2024 15:48:42 - INFO - finbert.finbert -     Num examples = 160391\n",
      "07/18/2024 15:48:42 - INFO - finbert.finbert -     Batch size = 32\n",
      "07/18/2024 15:48:42 - INFO - finbert.finbert -     Num steps = 21480\n",
      "Epoch:   0%|          | 0/10 [00:00<?, ?it/s]"
     ]
    },
    {
     "data": {
      "application/vnd.jupyter.widget-view+json": {
       "model_id": "f4a9cca70ef945479389d66ba1e7d726",
       "version_major": 2,
       "version_minor": 0
      },
      "text/plain": [
       "Iteration:   0%|          | 0/5013 [00:00<?, ?it/s]"
      ]
     },
     "metadata": {},
     "output_type": "display_data"
    },
    {
     "name": "stdout",
     "output_type": "stream",
     "text": [
      "(Iteration 0) Training loss: 3.4555718898773193\n",
      "(Iteration 100) Training loss: 3.219036102294922\n",
      "(Iteration 200) Training loss: 3.37111234664917\n",
      "(Iteration 300) Training loss: 3.6875386238098145\n",
      "(Iteration 400) Training loss: 3.483788013458252\n",
      "(Iteration 500) Training loss: 2.8606741428375244\n",
      "(Iteration 600) Training loss: 2.557075262069702\n",
      "(Iteration 700) Training loss: 2.3294999599456787\n",
      "(Iteration 800) Training loss: 1.8645200729370117\n",
      "(Iteration 900) Training loss: 1.7264622449874878\n",
      "(Iteration 1000) Training loss: 1.751303791999817\n",
      "(Iteration 1100) Training loss: 2.0255682468414307\n",
      "(Iteration 1200) Training loss: 1.5908957719802856\n",
      "(Iteration 1300) Training loss: 1.3990073204040527\n",
      "(Iteration 1400) Training loss: 1.4846954345703125\n",
      "(Iteration 1500) Training loss: 1.2271440029144287\n",
      "(Iteration 1600) Training loss: 1.1639950275421143\n",
      "(Iteration 1700) Training loss: 0.8918479681015015\n",
      "(Iteration 1800) Training loss: 0.6752336621284485\n",
      "(Iteration 1900) Training loss: 1.021091341972351\n",
      "(Iteration 2000) Training loss: 1.284656286239624\n",
      "(Iteration 2100) Training loss: 1.2522300481796265\n",
      "(Iteration 2200) Training loss: 1.0476033687591553\n",
      "(Iteration 2300) Training loss: 0.8076158165931702\n",
      "(Iteration 2400) Training loss: 0.47270745038986206\n",
      "(Iteration 2500) Training loss: 1.0630366802215576\n",
      "(Iteration 2600) Training loss: 0.5190829634666443\n",
      "(Iteration 2700) Training loss: 0.4401017427444458\n",
      "(Iteration 2800) Training loss: 1.3694978952407837\n",
      "(Iteration 2900) Training loss: 0.3551858961582184\n",
      "(Iteration 3000) Training loss: 1.875786304473877\n",
      "(Iteration 3100) Training loss: 3.370236396789551\n",
      "(Iteration 3200) Training loss: 0.6480410099029541\n",
      "(Iteration 3300) Training loss: 0.34756508469581604\n",
      "(Iteration 3400) Training loss: 0.4340999126434326\n",
      "(Iteration 3500) Training loss: 1.725950002670288\n",
      "(Iteration 3600) Training loss: 0.3198304772377014\n",
      "(Iteration 3700) Training loss: 0.3729015588760376\n",
      "(Iteration 3800) Training loss: 1.0801466703414917\n",
      "(Iteration 3900) Training loss: 0.479804664850235\n",
      "(Iteration 4000) Training loss: 0.6336719989776611\n",
      "(Iteration 4100) Training loss: 0.33582255244255066\n",
      "(Iteration 4200) Training loss: 0.1757819950580597\n",
      "(Iteration 4300) Training loss: 0.2083819955587387\n",
      "(Iteration 4400) Training loss: 0.34165897965431213\n",
      "(Iteration 4500) Training loss: 0.2861741781234741\n",
      "(Iteration 4600) Training loss: 0.40565910935401917\n",
      "(Iteration 4700) Training loss: 5.669223785400391\n",
      "(Iteration 4800) Training loss: 0.22416403889656067\n",
      "(Iteration 4900) Training loss: 2.2052059173583984\n",
      "(Iteration 5000) Training loss: 0.4128662347793579\n"
     ]
    },
    {
     "name": "stderr",
     "output_type": "stream",
     "text": [
      "07/18/2024 16:08:52 - INFO - finbert.utils -   *** Example ***\n",
      "07/18/2024 16:08:52 - INFO - finbert.utils -   guid: 0\n",
      "07/18/2024 16:08:52 - INFO - finbert.utils -   tokens: [CLS] rt ##p received money ##lion ins ##ta ##cas ##h 48 ##8 [SEP]\n",
      "07/18/2024 16:08:52 - INFO - finbert.utils -   input_ids: 101 19387 2361 2363 2769 18964 16021 2696 15671 2232 4466 2620 102 0 0 0 0 0 0 0 0 0 0 0 0 0 0 0 0 0 0 0 0 0 0 0 0 0 0 0 0 0 0 0 0 0 0 0\n",
      "07/18/2024 16:08:52 - INFO - finbert.utils -   attention_mask: 1 1 1 1 1 1 1 1 1 1 1 1 1 0 0 0 0 0 0 0 0 0 0 0 0 0 0 0 0 0 0 0 0 0 0 0 0 0 0 0 0 0 0 0 0 0 0 0\n",
      "07/18/2024 16:08:52 - INFO - finbert.utils -   token_type_ids: 0 0 0 0 0 0 0 0 0 0 0 0 0 0 0 0 0 0 0 0 0 0 0 0 0 0 0 0 0 0 0 0 0 0 0 0 0 0 0 0 0 0 0 0 0 0 0 0\n",
      "07/18/2024 16:08:52 - INFO - finbert.utils -   label: Loans (id = 0)\n",
      "07/18/2024 16:08:57 - INFO - finbert.finbert -   ***** Loading data *****\n",
      "07/18/2024 16:08:57 - INFO - finbert.finbert -     Num examples = 68739\n",
      "07/18/2024 16:08:57 - INFO - finbert.finbert -     Batch size = 32\n",
      "07/18/2024 16:08:57 - INFO - finbert.finbert -     Num steps = 21480\n"
     ]
    },
    {
     "data": {
      "application/vnd.jupyter.widget-view+json": {
       "model_id": "5784c6fab16d4921b74ff8072dfe16a2",
       "version_major": 2,
       "version_minor": 0
      },
      "text/plain": [
       "Validating:   0%|          | 0/2149 [00:00<?, ?it/s]"
      ]
     },
     "metadata": {},
     "output_type": "display_data"
    },
    {
     "name": "stdout",
     "output_type": "stream",
     "text": [
      "Validation losses: [0.5799220393079416]\n",
      "Validation Accuracy: 0.8546\n",
      "No best model found\n"
     ]
    },
    {
     "name": "stderr",
     "output_type": "stream",
     "text": [
      "Epoch:  10%|█         | 1/10 [22:39<3:23:53, 1359.30s/it]"
     ]
    },
    {
     "data": {
      "application/vnd.jupyter.widget-view+json": {
       "model_id": "b42d41005140459e95581dd02ae984cc",
       "version_major": 2,
       "version_minor": 0
      },
      "text/plain": [
       "Iteration:   0%|          | 0/5013 [00:00<?, ?it/s]"
      ]
     },
     "metadata": {},
     "output_type": "display_data"
    },
    {
     "name": "stdout",
     "output_type": "stream",
     "text": [
      "(Iteration 0) Training loss: 0.19735576212406158\n",
      "(Iteration 100) Training loss: 0.4083735942840576\n",
      "(Iteration 200) Training loss: 1.1223801374435425\n",
      "(Iteration 300) Training loss: 0.7589579224586487\n",
      "(Iteration 400) Training loss: 0.04343169927597046\n",
      "(Iteration 500) Training loss: 0.14386402070522308\n",
      "(Iteration 600) Training loss: 0.6445583701133728\n",
      "(Iteration 700) Training loss: 0.9569388628005981\n",
      "(Iteration 800) Training loss: 0.18728171288967133\n",
      "(Iteration 900) Training loss: 0.08831146359443665\n",
      "(Iteration 1000) Training loss: 0.43327921628952026\n",
      "(Iteration 1100) Training loss: 0.08476390689611435\n",
      "(Iteration 1200) Training loss: 0.4250596761703491\n",
      "(Iteration 1300) Training loss: 0.1763879358768463\n",
      "(Iteration 1400) Training loss: 0.45743635296821594\n",
      "(Iteration 1500) Training loss: 1.0057531595230103\n",
      "(Iteration 1600) Training loss: 0.40737029910087585\n",
      "(Iteration 1700) Training loss: 0.23466897010803223\n",
      "(Iteration 1800) Training loss: 0.13774892687797546\n",
      "(Iteration 1900) Training loss: 0.08622724562883377\n",
      "(Iteration 2000) Training loss: 1.150540828704834\n",
      "(Iteration 2100) Training loss: 0.269065260887146\n",
      "(Iteration 2200) Training loss: 0.2527434825897217\n",
      "(Iteration 2300) Training loss: 0.38269126415252686\n",
      "(Iteration 2400) Training loss: 0.8567644953727722\n",
      "(Iteration 2500) Training loss: 0.5377752780914307\n",
      "(Iteration 2600) Training loss: 0.34087854623794556\n",
      "(Iteration 2700) Training loss: 0.4019315242767334\n",
      "(Iteration 2800) Training loss: 0.36490049958229065\n",
      "(Iteration 2900) Training loss: 1.0652289390563965\n",
      "(Iteration 3000) Training loss: 0.42358332872390747\n",
      "(Iteration 3100) Training loss: 0.3270092010498047\n",
      "(Iteration 3200) Training loss: 0.19049037992954254\n",
      "(Iteration 3300) Training loss: 0.25989484786987305\n",
      "(Iteration 3400) Training loss: 0.2361791580915451\n",
      "(Iteration 3500) Training loss: 0.5743783116340637\n",
      "(Iteration 3600) Training loss: 0.10018818080425262\n",
      "(Iteration 3700) Training loss: 0.32574132084846497\n",
      "(Iteration 3800) Training loss: 0.27732139825820923\n",
      "(Iteration 3900) Training loss: 1.606566309928894\n",
      "(Iteration 4000) Training loss: 0.030777880921959877\n",
      "(Iteration 4100) Training loss: 0.2358122020959854\n",
      "(Iteration 4200) Training loss: 0.23694747686386108\n",
      "(Iteration 4300) Training loss: 0.24233925342559814\n",
      "(Iteration 4400) Training loss: 0.21535305678844452\n",
      "(Iteration 4500) Training loss: 0.22988513112068176\n",
      "(Iteration 4600) Training loss: 0.45478853583335876\n",
      "(Iteration 4700) Training loss: 0.4231460690498352\n",
      "(Iteration 4800) Training loss: 2.6820085048675537\n",
      "(Iteration 4900) Training loss: 0.13922911882400513\n",
      "(Iteration 5000) Training loss: 0.5246396660804749\n"
     ]
    },
    {
     "name": "stderr",
     "output_type": "stream",
     "text": [
      "07/18/2024 16:31:38 - INFO - finbert.utils -   *** Example ***\n",
      "07/18/2024 16:31:38 - INFO - finbert.utils -   guid: 0\n",
      "07/18/2024 16:31:38 - INFO - finbert.utils -   tokens: [CLS] rt ##p received money ##lion ins ##ta ##cas ##h 48 ##8 [SEP]\n",
      "07/18/2024 16:31:38 - INFO - finbert.utils -   input_ids: 101 19387 2361 2363 2769 18964 16021 2696 15671 2232 4466 2620 102 0 0 0 0 0 0 0 0 0 0 0 0 0 0 0 0 0 0 0 0 0 0 0 0 0 0 0 0 0 0 0 0 0 0 0\n",
      "07/18/2024 16:31:38 - INFO - finbert.utils -   attention_mask: 1 1 1 1 1 1 1 1 1 1 1 1 1 0 0 0 0 0 0 0 0 0 0 0 0 0 0 0 0 0 0 0 0 0 0 0 0 0 0 0 0 0 0 0 0 0 0 0\n",
      "07/18/2024 16:31:38 - INFO - finbert.utils -   token_type_ids: 0 0 0 0 0 0 0 0 0 0 0 0 0 0 0 0 0 0 0 0 0 0 0 0 0 0 0 0 0 0 0 0 0 0 0 0 0 0 0 0 0 0 0 0 0 0 0 0\n",
      "07/18/2024 16:31:38 - INFO - finbert.utils -   label: Loans (id = 0)\n",
      "07/18/2024 16:31:43 - INFO - finbert.finbert -   ***** Loading data *****\n",
      "07/18/2024 16:31:43 - INFO - finbert.finbert -     Num examples = 68739\n",
      "07/18/2024 16:31:43 - INFO - finbert.finbert -     Batch size = 32\n",
      "07/18/2024 16:31:43 - INFO - finbert.finbert -     Num steps = 21480\n"
     ]
    },
    {
     "data": {
      "application/vnd.jupyter.widget-view+json": {
       "model_id": "3c0e7b300f13476dbc928f5244133a3b",
       "version_major": 2,
       "version_minor": 0
      },
      "text/plain": [
       "Validating:   0%|          | 0/2149 [00:00<?, ?it/s]"
      ]
     },
     "metadata": {},
     "output_type": "display_data"
    },
    {
     "name": "stdout",
     "output_type": "stream",
     "text": [
      "Validation losses: [0.5799220393079416, 0.5043733746258445]\n",
      "Validation Accuracy: 0.8712\n"
     ]
    },
    {
     "name": "stderr",
     "output_type": "stream",
     "text": [
      "Epoch:  20%|██        | 2/10 [45:25<3:01:44, 1363.07s/it]"
     ]
    },
    {
     "data": {
      "application/vnd.jupyter.widget-view+json": {
       "model_id": "c60b4544d3644ce7979ff2253eb602e9",
       "version_major": 2,
       "version_minor": 0
      },
      "text/plain": [
       "Iteration:   0%|          | 0/5013 [00:00<?, ?it/s]"
      ]
     },
     "metadata": {},
     "output_type": "display_data"
    },
    {
     "name": "stdout",
     "output_type": "stream",
     "text": [
      "(Iteration 0) Training loss: 0.22933520376682281\n",
      "(Iteration 100) Training loss: 0.5029081702232361\n",
      "(Iteration 200) Training loss: 0.23294799029827118\n",
      "(Iteration 300) Training loss: 0.764281690120697\n",
      "(Iteration 400) Training loss: 2.0454235076904297\n",
      "(Iteration 500) Training loss: 0.20611754059791565\n",
      "(Iteration 600) Training loss: 0.2582716643810272\n",
      "(Iteration 700) Training loss: 0.06681673973798752\n",
      "(Iteration 800) Training loss: 0.05964310094714165\n",
      "(Iteration 900) Training loss: 0.0814225897192955\n",
      "(Iteration 1000) Training loss: 2.492708444595337\n",
      "(Iteration 1100) Training loss: 0.13302473723888397\n",
      "(Iteration 1200) Training loss: 0.1755986213684082\n",
      "(Iteration 1300) Training loss: 0.21490976214408875\n",
      "(Iteration 1400) Training loss: 0.20308583974838257\n",
      "(Iteration 1500) Training loss: 0.18954770267009735\n",
      "(Iteration 1600) Training loss: 0.36280113458633423\n",
      "(Iteration 1700) Training loss: 0.15474313497543335\n",
      "(Iteration 1800) Training loss: 0.5061920881271362\n",
      "(Iteration 1900) Training loss: 0.10112135112285614\n",
      "(Iteration 2000) Training loss: 0.5399770736694336\n",
      "(Iteration 2100) Training loss: 0.11540891975164413\n",
      "(Iteration 2200) Training loss: 0.5033792853355408\n",
      "(Iteration 2300) Training loss: 0.7796714901924133\n",
      "(Iteration 2400) Training loss: 0.8267413377761841\n",
      "(Iteration 2500) Training loss: 0.39776018261909485\n",
      "(Iteration 2600) Training loss: 0.9418245553970337\n",
      "(Iteration 2700) Training loss: 0.13974720239639282\n",
      "(Iteration 2800) Training loss: 0.19855880737304688\n",
      "(Iteration 2900) Training loss: 0.2658417820930481\n",
      "(Iteration 3000) Training loss: 0.6884374618530273\n",
      "(Iteration 3100) Training loss: 0.022502843290567398\n",
      "(Iteration 3200) Training loss: 0.9987292289733887\n",
      "(Iteration 3300) Training loss: 0.03484489768743515\n",
      "(Iteration 3400) Training loss: 0.3987141251564026\n",
      "(Iteration 3500) Training loss: 0.12638311088085175\n",
      "(Iteration 3600) Training loss: 0.592144787311554\n",
      "(Iteration 3700) Training loss: 0.2835608720779419\n",
      "(Iteration 3800) Training loss: 0.4067288339138031\n",
      "(Iteration 3900) Training loss: 0.1617879718542099\n",
      "(Iteration 4000) Training loss: 1.2717382907867432\n",
      "(Iteration 4100) Training loss: 0.1703796684741974\n",
      "(Iteration 4200) Training loss: 0.3138294219970703\n",
      "(Iteration 4300) Training loss: 0.10774264484643936\n",
      "(Iteration 4400) Training loss: 0.15392521023750305\n",
      "(Iteration 4500) Training loss: 0.6737895011901855\n",
      "(Iteration 4600) Training loss: 0.2713973820209503\n",
      "(Iteration 4700) Training loss: 0.09618502855300903\n",
      "(Iteration 4800) Training loss: 2.351569414138794\n",
      "(Iteration 4900) Training loss: 0.11058361828327179\n",
      "(Iteration 5000) Training loss: 0.17697599530220032\n"
     ]
    },
    {
     "name": "stderr",
     "output_type": "stream",
     "text": [
      "07/18/2024 16:54:22 - INFO - finbert.utils -   *** Example ***\n",
      "07/18/2024 16:54:22 - INFO - finbert.utils -   guid: 0\n",
      "07/18/2024 16:54:22 - INFO - finbert.utils -   tokens: [CLS] rt ##p received money ##lion ins ##ta ##cas ##h 48 ##8 [SEP]\n",
      "07/18/2024 16:54:22 - INFO - finbert.utils -   input_ids: 101 19387 2361 2363 2769 18964 16021 2696 15671 2232 4466 2620 102 0 0 0 0 0 0 0 0 0 0 0 0 0 0 0 0 0 0 0 0 0 0 0 0 0 0 0 0 0 0 0 0 0 0 0\n",
      "07/18/2024 16:54:22 - INFO - finbert.utils -   attention_mask: 1 1 1 1 1 1 1 1 1 1 1 1 1 0 0 0 0 0 0 0 0 0 0 0 0 0 0 0 0 0 0 0 0 0 0 0 0 0 0 0 0 0 0 0 0 0 0 0\n",
      "07/18/2024 16:54:22 - INFO - finbert.utils -   token_type_ids: 0 0 0 0 0 0 0 0 0 0 0 0 0 0 0 0 0 0 0 0 0 0 0 0 0 0 0 0 0 0 0 0 0 0 0 0 0 0 0 0 0 0 0 0 0 0 0 0\n",
      "07/18/2024 16:54:22 - INFO - finbert.utils -   label: Loans (id = 0)\n",
      "07/18/2024 16:54:27 - INFO - finbert.finbert -   ***** Loading data *****\n",
      "07/18/2024 16:54:27 - INFO - finbert.finbert -     Num examples = 68739\n",
      "07/18/2024 16:54:27 - INFO - finbert.finbert -     Batch size = 32\n",
      "07/18/2024 16:54:27 - INFO - finbert.finbert -     Num steps = 21480\n"
     ]
    },
    {
     "data": {
      "application/vnd.jupyter.widget-view+json": {
       "model_id": "18169f55a57c45379669631942843307",
       "version_major": 2,
       "version_minor": 0
      },
      "text/plain": [
       "Validating:   0%|          | 0/2149 [00:00<?, ?it/s]"
      ]
     },
     "metadata": {},
     "output_type": "display_data"
    },
    {
     "name": "stdout",
     "output_type": "stream",
     "text": [
      "Validation losses: [0.5799220393079416, 0.5043733746258445, 0.41001141623374143]\n",
      "Validation Accuracy: 0.8792\n"
     ]
    },
    {
     "name": "stderr",
     "output_type": "stream",
     "text": [
      "Epoch:  30%|███       | 3/10 [1:08:08<2:39:03, 1363.35s/it]"
     ]
    },
    {
     "data": {
      "application/vnd.jupyter.widget-view+json": {
       "model_id": "e705064852704df88dd726dc537e6f91",
       "version_major": 2,
       "version_minor": 0
      },
      "text/plain": [
       "Iteration:   0%|          | 0/5013 [00:00<?, ?it/s]"
      ]
     },
     "metadata": {},
     "output_type": "display_data"
    },
    {
     "name": "stdout",
     "output_type": "stream",
     "text": [
      "(Iteration 0) Training loss: 0.32996633648872375\n",
      "(Iteration 100) Training loss: 0.05202765017747879\n",
      "(Iteration 200) Training loss: 0.09758801013231277\n",
      "(Iteration 300) Training loss: 0.38786476850509644\n",
      "(Iteration 400) Training loss: 0.09487371891736984\n",
      "(Iteration 500) Training loss: 2.7276744842529297\n",
      "(Iteration 600) Training loss: 0.16712257266044617\n",
      "(Iteration 700) Training loss: 0.10514508187770844\n",
      "(Iteration 800) Training loss: 0.17141558229923248\n",
      "(Iteration 900) Training loss: 0.7726597785949707\n",
      "(Iteration 1000) Training loss: 0.2766897678375244\n",
      "(Iteration 1100) Training loss: 0.3778592050075531\n",
      "(Iteration 1200) Training loss: 0.299282044172287\n",
      "(Iteration 1300) Training loss: 0.9625679850578308\n",
      "(Iteration 1400) Training loss: 1.3891234397888184\n",
      "(Iteration 1500) Training loss: 0.04955466464161873\n",
      "(Iteration 1600) Training loss: 0.2290286421775818\n",
      "(Iteration 1700) Training loss: 0.1121704950928688\n",
      "(Iteration 1800) Training loss: 0.07391663640737534\n",
      "(Iteration 1900) Training loss: 0.23316392302513123\n",
      "(Iteration 2000) Training loss: 0.263014018535614\n",
      "(Iteration 2100) Training loss: 0.17775312066078186\n",
      "(Iteration 2200) Training loss: 0.7148851752281189\n",
      "(Iteration 2300) Training loss: 0.19417759776115417\n",
      "(Iteration 2400) Training loss: 0.7199780344963074\n",
      "(Iteration 2500) Training loss: 0.22017447650432587\n",
      "(Iteration 2600) Training loss: 0.026405636221170425\n",
      "(Iteration 2700) Training loss: 0.3899504542350769\n",
      "(Iteration 2800) Training loss: 0.04589909687638283\n",
      "(Iteration 2900) Training loss: 0.14987358450889587\n",
      "(Iteration 3000) Training loss: 0.1807376742362976\n",
      "(Iteration 3100) Training loss: 0.21694812178611755\n",
      "(Iteration 3200) Training loss: 0.3443940281867981\n",
      "(Iteration 3300) Training loss: 0.36700427532196045\n",
      "(Iteration 3400) Training loss: 0.29192668199539185\n",
      "(Iteration 3500) Training loss: 0.0757288709282875\n",
      "(Iteration 3600) Training loss: 0.4194825291633606\n",
      "(Iteration 3700) Training loss: 0.061953503638505936\n",
      "(Iteration 3800) Training loss: 0.2110927551984787\n",
      "(Iteration 3900) Training loss: 0.08529601246118546\n",
      "(Iteration 4000) Training loss: 0.20835614204406738\n",
      "(Iteration 4100) Training loss: 3.481660842895508\n",
      "(Iteration 4200) Training loss: 0.345061331987381\n",
      "(Iteration 4300) Training loss: 0.13707587122917175\n",
      "(Iteration 4400) Training loss: 0.005550025962293148\n",
      "(Iteration 4500) Training loss: 0.1454041302204132\n",
      "(Iteration 4600) Training loss: 0.31603124737739563\n",
      "(Iteration 4700) Training loss: 0.029685277491807938\n",
      "(Iteration 4800) Training loss: 0.13796177506446838\n",
      "(Iteration 4900) Training loss: 1.704720377922058\n",
      "(Iteration 5000) Training loss: 0.08829440921545029\n"
     ]
    },
    {
     "name": "stderr",
     "output_type": "stream",
     "text": [
      "07/18/2024 17:16:53 - INFO - finbert.utils -   *** Example ***\n",
      "07/18/2024 17:16:53 - INFO - finbert.utils -   guid: 0\n",
      "07/18/2024 17:16:53 - INFO - finbert.utils -   tokens: [CLS] rt ##p received money ##lion ins ##ta ##cas ##h 48 ##8 [SEP]\n",
      "07/18/2024 17:16:53 - INFO - finbert.utils -   input_ids: 101 19387 2361 2363 2769 18964 16021 2696 15671 2232 4466 2620 102 0 0 0 0 0 0 0 0 0 0 0 0 0 0 0 0 0 0 0 0 0 0 0 0 0 0 0 0 0 0 0 0 0 0 0\n",
      "07/18/2024 17:16:53 - INFO - finbert.utils -   attention_mask: 1 1 1 1 1 1 1 1 1 1 1 1 1 0 0 0 0 0 0 0 0 0 0 0 0 0 0 0 0 0 0 0 0 0 0 0 0 0 0 0 0 0 0 0 0 0 0 0\n",
      "07/18/2024 17:16:53 - INFO - finbert.utils -   token_type_ids: 0 0 0 0 0 0 0 0 0 0 0 0 0 0 0 0 0 0 0 0 0 0 0 0 0 0 0 0 0 0 0 0 0 0 0 0 0 0 0 0 0 0 0 0 0 0 0 0\n",
      "07/18/2024 17:16:53 - INFO - finbert.utils -   label: Loans (id = 0)\n",
      "07/18/2024 17:16:58 - INFO - finbert.finbert -   ***** Loading data *****\n",
      "07/18/2024 17:16:58 - INFO - finbert.finbert -     Num examples = 68739\n",
      "07/18/2024 17:16:58 - INFO - finbert.finbert -     Batch size = 32\n",
      "07/18/2024 17:16:58 - INFO - finbert.finbert -     Num steps = 21480\n"
     ]
    },
    {
     "data": {
      "application/vnd.jupyter.widget-view+json": {
       "model_id": "25e823d9fdf149ab81fcff97de347cf3",
       "version_major": 2,
       "version_minor": 0
      },
      "text/plain": [
       "Validating:   0%|          | 0/2149 [00:00<?, ?it/s]"
      ]
     },
     "metadata": {},
     "output_type": "display_data"
    },
    {
     "name": "stdout",
     "output_type": "stream",
     "text": [
      "Validation losses: [0.5799220393079416, 0.5043733746258445, 0.41001141623374143, 0.396769596618917]\n",
      "Validation Accuracy: 0.8952\n"
     ]
    },
    {
     "name": "stderr",
     "output_type": "stream",
     "text": [
      "Epoch:  40%|████      | 4/10 [1:30:39<2:15:51, 1358.57s/it]"
     ]
    },
    {
     "data": {
      "application/vnd.jupyter.widget-view+json": {
       "model_id": "86c17ba773024f77a978aec76c70f4c9",
       "version_major": 2,
       "version_minor": 0
      },
      "text/plain": [
       "Iteration:   0%|          | 0/5013 [00:00<?, ?it/s]"
      ]
     },
     "metadata": {},
     "output_type": "display_data"
    },
    {
     "name": "stdout",
     "output_type": "stream",
     "text": [
      "(Iteration 0) Training loss: 0.18411047756671906\n",
      "(Iteration 100) Training loss: 0.5594586133956909\n",
      "(Iteration 200) Training loss: 0.026097165420651436\n",
      "(Iteration 300) Training loss: 0.10068661719560623\n",
      "(Iteration 400) Training loss: 0.0466470904648304\n",
      "(Iteration 500) Training loss: 0.18874841928482056\n",
      "(Iteration 600) Training loss: 0.15717510879039764\n",
      "(Iteration 700) Training loss: 0.16473020613193512\n",
      "(Iteration 800) Training loss: 0.20020776987075806\n",
      "(Iteration 900) Training loss: 0.07622480392456055\n",
      "(Iteration 1000) Training loss: 0.2319982349872589\n",
      "(Iteration 1100) Training loss: 0.10482260584831238\n",
      "(Iteration 1200) Training loss: 0.29965120553970337\n",
      "(Iteration 1300) Training loss: 0.092338427901268\n",
      "(Iteration 1400) Training loss: 0.15209969878196716\n",
      "(Iteration 1500) Training loss: 0.23314982652664185\n",
      "(Iteration 1600) Training loss: 0.08971826732158661\n",
      "(Iteration 1700) Training loss: 4.434072971343994\n",
      "(Iteration 1800) Training loss: 0.14380566775798798\n",
      "(Iteration 1900) Training loss: 0.38476741313934326\n",
      "(Iteration 2000) Training loss: 0.4209554195404053\n",
      "(Iteration 2100) Training loss: 0.2689732015132904\n",
      "(Iteration 2200) Training loss: 0.09898272901773453\n",
      "(Iteration 2300) Training loss: 0.3859019875526428\n",
      "(Iteration 2400) Training loss: 2.249330759048462\n",
      "(Iteration 2500) Training loss: 0.09053662419319153\n",
      "(Iteration 2600) Training loss: 0.20998260378837585\n",
      "(Iteration 2700) Training loss: 0.057786792516708374\n",
      "(Iteration 2800) Training loss: 0.09818819910287857\n",
      "(Iteration 2900) Training loss: 1.9270416498184204\n",
      "(Iteration 3000) Training loss: 0.6410273313522339\n",
      "(Iteration 3100) Training loss: 0.40057042241096497\n",
      "(Iteration 3200) Training loss: 0.15682604908943176\n",
      "(Iteration 3300) Training loss: 0.08286061137914658\n",
      "(Iteration 3400) Training loss: 0.026703134179115295\n",
      "(Iteration 3500) Training loss: 0.10899674147367477\n",
      "(Iteration 3600) Training loss: 0.21480074524879456\n",
      "(Iteration 3700) Training loss: 0.24942496418952942\n",
      "(Iteration 3800) Training loss: 0.18176992237567902\n",
      "(Iteration 3900) Training loss: 0.13382185995578766\n",
      "(Iteration 4000) Training loss: 0.19807206094264984\n",
      "(Iteration 4100) Training loss: 0.05336352810263634\n",
      "(Iteration 4200) Training loss: 1.416721224784851\n",
      "(Iteration 4300) Training loss: 0.9391847252845764\n",
      "(Iteration 4400) Training loss: 0.033135782927274704\n",
      "(Iteration 4500) Training loss: 0.03039802983403206\n",
      "(Iteration 4600) Training loss: 0.2524687647819519\n",
      "(Iteration 4700) Training loss: 0.5023915767669678\n",
      "(Iteration 4800) Training loss: 0.03665716201066971\n",
      "(Iteration 4900) Training loss: 0.02949492074549198\n",
      "(Iteration 5000) Training loss: 0.39628222584724426\n"
     ]
    },
    {
     "name": "stderr",
     "output_type": "stream",
     "text": [
      "07/18/2024 17:39:36 - INFO - finbert.utils -   *** Example ***\n",
      "07/18/2024 17:39:36 - INFO - finbert.utils -   guid: 0\n",
      "07/18/2024 17:39:36 - INFO - finbert.utils -   tokens: [CLS] rt ##p received money ##lion ins ##ta ##cas ##h 48 ##8 [SEP]\n",
      "07/18/2024 17:39:36 - INFO - finbert.utils -   input_ids: 101 19387 2361 2363 2769 18964 16021 2696 15671 2232 4466 2620 102 0 0 0 0 0 0 0 0 0 0 0 0 0 0 0 0 0 0 0 0 0 0 0 0 0 0 0 0 0 0 0 0 0 0 0\n",
      "07/18/2024 17:39:36 - INFO - finbert.utils -   attention_mask: 1 1 1 1 1 1 1 1 1 1 1 1 1 0 0 0 0 0 0 0 0 0 0 0 0 0 0 0 0 0 0 0 0 0 0 0 0 0 0 0 0 0 0 0 0 0 0 0\n",
      "07/18/2024 17:39:36 - INFO - finbert.utils -   token_type_ids: 0 0 0 0 0 0 0 0 0 0 0 0 0 0 0 0 0 0 0 0 0 0 0 0 0 0 0 0 0 0 0 0 0 0 0 0 0 0 0 0 0 0 0 0 0 0 0 0\n",
      "07/18/2024 17:39:36 - INFO - finbert.utils -   label: Loans (id = 0)\n",
      "07/18/2024 17:39:41 - INFO - finbert.finbert -   ***** Loading data *****\n",
      "07/18/2024 17:39:41 - INFO - finbert.finbert -     Num examples = 68739\n",
      "07/18/2024 17:39:41 - INFO - finbert.finbert -     Batch size = 32\n",
      "07/18/2024 17:39:41 - INFO - finbert.finbert -     Num steps = 21480\n"
     ]
    },
    {
     "data": {
      "application/vnd.jupyter.widget-view+json": {
       "model_id": "98a2beae49084dce9206cbce25a19eac",
       "version_major": 2,
       "version_minor": 0
      },
      "text/plain": [
       "Validating:   0%|          | 0/2149 [00:00<?, ?it/s]"
      ]
     },
     "metadata": {},
     "output_type": "display_data"
    },
    {
     "name": "stdout",
     "output_type": "stream",
     "text": [
      "Validation losses: [0.5799220393079416, 0.5043733746258445, 0.41001141623374143, 0.396769596618917, 0.42151122965939647]\n",
      "Validation Accuracy: 0.9003\n"
     ]
    },
    {
     "name": "stderr",
     "output_type": "stream",
     "text": [
      "Epoch:  50%|█████     | 5/10 [1:53:22<1:53:20, 1360.06s/it]"
     ]
    },
    {
     "data": {
      "application/vnd.jupyter.widget-view+json": {
       "model_id": "032f24d651db4124ad5ed3190bfacbc3",
       "version_major": 2,
       "version_minor": 0
      },
      "text/plain": [
       "Iteration:   0%|          | 0/5013 [00:00<?, ?it/s]"
      ]
     },
     "metadata": {},
     "output_type": "display_data"
    },
    {
     "name": "stdout",
     "output_type": "stream",
     "text": [
      "(Iteration 0) Training loss: 0.0393543541431427\n",
      "(Iteration 100) Training loss: 0.20521637797355652\n",
      "(Iteration 200) Training loss: 0.2192939817905426\n",
      "(Iteration 300) Training loss: 0.22629103064537048\n",
      "(Iteration 400) Training loss: 0.036076173186302185\n",
      "(Iteration 500) Training loss: 0.5149597525596619\n",
      "(Iteration 600) Training loss: 0.012788048014044762\n",
      "(Iteration 700) Training loss: 0.4310140907764435\n",
      "(Iteration 800) Training loss: 0.14375582337379456\n",
      "(Iteration 900) Training loss: 0.22181472182273865\n",
      "(Iteration 1000) Training loss: 0.11014761030673981\n",
      "(Iteration 1100) Training loss: 0.10138650983572006\n",
      "(Iteration 1200) Training loss: 0.035772331058979034\n",
      "(Iteration 1300) Training loss: 0.1269054412841797\n",
      "(Iteration 1400) Training loss: 0.1546446979045868\n",
      "(Iteration 1500) Training loss: 0.06530165672302246\n",
      "(Iteration 1600) Training loss: 0.10202781111001968\n",
      "(Iteration 1700) Training loss: 0.15742889046669006\n",
      "(Iteration 1800) Training loss: 0.1287020742893219\n",
      "(Iteration 1900) Training loss: 0.025064706802368164\n",
      "(Iteration 2000) Training loss: 0.6309005618095398\n",
      "(Iteration 2100) Training loss: 0.11868718266487122\n",
      "(Iteration 2200) Training loss: 0.19745378196239471\n",
      "(Iteration 2300) Training loss: 0.3150233328342438\n",
      "(Iteration 2400) Training loss: 0.25222066044807434\n",
      "(Iteration 2500) Training loss: 0.13442669808864594\n",
      "(Iteration 2600) Training loss: 0.1422385275363922\n",
      "(Iteration 2700) Training loss: 0.3348259925842285\n",
      "(Iteration 2800) Training loss: 0.25232428312301636\n",
      "(Iteration 2900) Training loss: 0.25939807295799255\n",
      "(Iteration 3000) Training loss: 0.0584995374083519\n",
      "(Iteration 3100) Training loss: 0.10886602103710175\n",
      "(Iteration 3200) Training loss: 0.30903851985931396\n",
      "(Iteration 3300) Training loss: 0.3006749749183655\n",
      "(Iteration 3400) Training loss: 0.13705135881900787\n",
      "(Iteration 3500) Training loss: 0.09326574951410294\n",
      "(Iteration 3600) Training loss: 0.12966488301753998\n",
      "(Iteration 3700) Training loss: 0.19544805586338043\n",
      "(Iteration 3800) Training loss: 0.09225740283727646\n",
      "(Iteration 3900) Training loss: 0.12484095245599747\n",
      "(Iteration 4000) Training loss: 1.9483537673950195\n",
      "(Iteration 4100) Training loss: 0.1760682761669159\n",
      "(Iteration 4200) Training loss: 0.09859215468168259\n",
      "(Iteration 4300) Training loss: 0.33991333842277527\n",
      "(Iteration 4400) Training loss: 0.4285978674888611\n",
      "(Iteration 4500) Training loss: 0.09792734682559967\n",
      "(Iteration 4600) Training loss: 0.0445508137345314\n",
      "(Iteration 4700) Training loss: 0.06317584961652756\n",
      "(Iteration 4800) Training loss: 0.11949573457241058\n",
      "(Iteration 4900) Training loss: 0.11545123904943466\n",
      "(Iteration 5000) Training loss: 0.08425090461969376\n"
     ]
    },
    {
     "name": "stderr",
     "output_type": "stream",
     "text": [
      "07/18/2024 18:02:15 - INFO - finbert.utils -   *** Example ***\n",
      "07/18/2024 18:02:15 - INFO - finbert.utils -   guid: 0\n",
      "07/18/2024 18:02:15 - INFO - finbert.utils -   tokens: [CLS] rt ##p received money ##lion ins ##ta ##cas ##h 48 ##8 [SEP]\n",
      "07/18/2024 18:02:15 - INFO - finbert.utils -   input_ids: 101 19387 2361 2363 2769 18964 16021 2696 15671 2232 4466 2620 102 0 0 0 0 0 0 0 0 0 0 0 0 0 0 0 0 0 0 0 0 0 0 0 0 0 0 0 0 0 0 0 0 0 0 0\n",
      "07/18/2024 18:02:15 - INFO - finbert.utils -   attention_mask: 1 1 1 1 1 1 1 1 1 1 1 1 1 0 0 0 0 0 0 0 0 0 0 0 0 0 0 0 0 0 0 0 0 0 0 0 0 0 0 0 0 0 0 0 0 0 0 0\n",
      "07/18/2024 18:02:15 - INFO - finbert.utils -   token_type_ids: 0 0 0 0 0 0 0 0 0 0 0 0 0 0 0 0 0 0 0 0 0 0 0 0 0 0 0 0 0 0 0 0 0 0 0 0 0 0 0 0 0 0 0 0 0 0 0 0\n",
      "07/18/2024 18:02:15 - INFO - finbert.utils -   label: Loans (id = 0)\n",
      "07/18/2024 18:02:20 - INFO - finbert.finbert -   ***** Loading data *****\n",
      "07/18/2024 18:02:20 - INFO - finbert.finbert -     Num examples = 68739\n",
      "07/18/2024 18:02:20 - INFO - finbert.finbert -     Batch size = 32\n",
      "07/18/2024 18:02:20 - INFO - finbert.finbert -     Num steps = 21480\n"
     ]
    },
    {
     "data": {
      "application/vnd.jupyter.widget-view+json": {
       "model_id": "f4aff348aed24e679c9418fd4e4e7f9d",
       "version_major": 2,
       "version_minor": 0
      },
      "text/plain": [
       "Validating:   0%|          | 0/2149 [00:00<?, ?it/s]"
      ]
     },
     "metadata": {},
     "output_type": "display_data"
    },
    {
     "name": "stdout",
     "output_type": "stream",
     "text": [
      "Validation losses: [0.5799220393079416, 0.5043733746258445, 0.41001141623374143, 0.396769596618917, 0.42151122965939647, 0.3938752062074414]\n",
      "Validation Accuracy: 0.9037\n"
     ]
    },
    {
     "name": "stderr",
     "output_type": "stream",
     "text": [
      "Epoch:  60%|██████    | 6/10 [2:16:01<1:30:38, 1359.68s/it]"
     ]
    },
    {
     "data": {
      "application/vnd.jupyter.widget-view+json": {
       "model_id": "caadb245262941779355826bab071edf",
       "version_major": 2,
       "version_minor": 0
      },
      "text/plain": [
       "Iteration:   0%|          | 0/5013 [00:00<?, ?it/s]"
      ]
     },
     "metadata": {},
     "output_type": "display_data"
    },
    {
     "name": "stdout",
     "output_type": "stream",
     "text": [
      "(Iteration 0) Training loss: 0.08332796394824982\n",
      "(Iteration 100) Training loss: 0.8270719647407532\n",
      "(Iteration 200) Training loss: 0.08714286237955093\n",
      "(Iteration 300) Training loss: 0.022989608347415924\n",
      "(Iteration 400) Training loss: 0.15587380528450012\n",
      "(Iteration 500) Training loss: 0.28942233324050903\n",
      "(Iteration 600) Training loss: 0.061030518263578415\n",
      "(Iteration 700) Training loss: 0.1666271835565567\n",
      "(Iteration 800) Training loss: 0.2464296668767929\n",
      "(Iteration 900) Training loss: 0.05765983834862709\n",
      "(Iteration 1000) Training loss: 0.03928649425506592\n",
      "(Iteration 1100) Training loss: 0.07927814871072769\n",
      "(Iteration 1200) Training loss: 0.1399872750043869\n",
      "(Iteration 1300) Training loss: 0.08417807519435883\n",
      "(Iteration 1400) Training loss: 0.32130175828933716\n",
      "(Iteration 1500) Training loss: 0.09321905672550201\n",
      "(Iteration 1600) Training loss: 0.157287135720253\n",
      "(Iteration 1700) Training loss: 0.0726046934723854\n",
      "(Iteration 1800) Training loss: 0.10453904420137405\n",
      "(Iteration 1900) Training loss: 0.23899894952774048\n",
      "(Iteration 2000) Training loss: 0.06021563708782196\n",
      "(Iteration 2100) Training loss: 0.033748697489500046\n",
      "(Iteration 2200) Training loss: 0.2693208158016205\n",
      "(Iteration 2300) Training loss: 0.1598796248435974\n",
      "(Iteration 2400) Training loss: 0.11987832933664322\n",
      "(Iteration 2500) Training loss: 0.037043727934360504\n",
      "(Iteration 2600) Training loss: 0.03088901750743389\n",
      "(Iteration 2700) Training loss: 0.8563578128814697\n",
      "(Iteration 2800) Training loss: 0.23779842257499695\n",
      "(Iteration 2900) Training loss: 0.03308294713497162\n",
      "(Iteration 3000) Training loss: 0.05750204250216484\n",
      "(Iteration 3100) Training loss: 0.12570592761039734\n",
      "(Iteration 3200) Training loss: 0.04048823192715645\n",
      "(Iteration 3300) Training loss: 0.0613127276301384\n",
      "(Iteration 3400) Training loss: 0.17512215673923492\n",
      "(Iteration 3500) Training loss: 0.11712685972452164\n",
      "(Iteration 3600) Training loss: 0.14355964958667755\n",
      "(Iteration 3700) Training loss: 0.0370795875787735\n",
      "(Iteration 3800) Training loss: 0.3396289348602295\n",
      "(Iteration 3900) Training loss: 0.10951309651136398\n",
      "(Iteration 4000) Training loss: 0.16800425946712494\n",
      "(Iteration 4100) Training loss: 0.07100073248147964\n",
      "(Iteration 4200) Training loss: 0.06776148080825806\n",
      "(Iteration 4300) Training loss: 0.07056432217359543\n",
      "(Iteration 4400) Training loss: 0.17187608778476715\n",
      "(Iteration 4500) Training loss: 0.9806007146835327\n",
      "(Iteration 4600) Training loss: 0.020845482125878334\n",
      "(Iteration 4700) Training loss: 0.15417659282684326\n",
      "(Iteration 4800) Training loss: 0.09190001338720322\n",
      "(Iteration 4900) Training loss: 0.026228152215480804\n",
      "(Iteration 5000) Training loss: 0.18481260538101196\n"
     ]
    },
    {
     "name": "stderr",
     "output_type": "stream",
     "text": [
      "07/18/2024 18:24:56 - INFO - finbert.utils -   *** Example ***\n",
      "07/18/2024 18:24:56 - INFO - finbert.utils -   guid: 0\n",
      "07/18/2024 18:24:56 - INFO - finbert.utils -   tokens: [CLS] rt ##p received money ##lion ins ##ta ##cas ##h 48 ##8 [SEP]\n",
      "07/18/2024 18:24:56 - INFO - finbert.utils -   input_ids: 101 19387 2361 2363 2769 18964 16021 2696 15671 2232 4466 2620 102 0 0 0 0 0 0 0 0 0 0 0 0 0 0 0 0 0 0 0 0 0 0 0 0 0 0 0 0 0 0 0 0 0 0 0\n",
      "07/18/2024 18:24:56 - INFO - finbert.utils -   attention_mask: 1 1 1 1 1 1 1 1 1 1 1 1 1 0 0 0 0 0 0 0 0 0 0 0 0 0 0 0 0 0 0 0 0 0 0 0 0 0 0 0 0 0 0 0 0 0 0 0\n",
      "07/18/2024 18:24:56 - INFO - finbert.utils -   token_type_ids: 0 0 0 0 0 0 0 0 0 0 0 0 0 0 0 0 0 0 0 0 0 0 0 0 0 0 0 0 0 0 0 0 0 0 0 0 0 0 0 0 0 0 0 0 0 0 0 0\n",
      "07/18/2024 18:24:56 - INFO - finbert.utils -   label: Loans (id = 0)\n",
      "07/18/2024 18:25:01 - INFO - finbert.finbert -   ***** Loading data *****\n",
      "07/18/2024 18:25:01 - INFO - finbert.finbert -     Num examples = 68739\n",
      "07/18/2024 18:25:01 - INFO - finbert.finbert -     Batch size = 32\n",
      "07/18/2024 18:25:01 - INFO - finbert.finbert -     Num steps = 21480\n"
     ]
    },
    {
     "data": {
      "application/vnd.jupyter.widget-view+json": {
       "model_id": "4291d0877ed945498636e1b8d48b600d",
       "version_major": 2,
       "version_minor": 0
      },
      "text/plain": [
       "Validating:   0%|          | 0/2149 [00:00<?, ?it/s]"
      ]
     },
     "metadata": {},
     "output_type": "display_data"
    },
    {
     "name": "stdout",
     "output_type": "stream",
     "text": [
      "Validation losses: [0.5799220393079416, 0.5043733746258445, 0.41001141623374143, 0.396769596618917, 0.42151122965939647, 0.3938752062074414, 0.37931189097748164]\n",
      "Validation Accuracy: 0.9025\n"
     ]
    },
    {
     "name": "stderr",
     "output_type": "stream",
     "text": [
      "Epoch:  70%|███████   | 7/10 [2:38:42<1:08:00, 1360.21s/it]"
     ]
    },
    {
     "data": {
      "application/vnd.jupyter.widget-view+json": {
       "model_id": "eae5d4ac3e5241d28b4d4508e49bb8a7",
       "version_major": 2,
       "version_minor": 0
      },
      "text/plain": [
       "Iteration:   0%|          | 0/5013 [00:00<?, ?it/s]"
      ]
     },
     "metadata": {},
     "output_type": "display_data"
    },
    {
     "name": "stdout",
     "output_type": "stream",
     "text": [
      "(Iteration 0) Training loss: 0.1301930695772171\n",
      "(Iteration 100) Training loss: 0.7445387244224548\n",
      "(Iteration 200) Training loss: 0.21466606855392456\n",
      "(Iteration 300) Training loss: 0.07792592793703079\n",
      "(Iteration 400) Training loss: 0.1265583336353302\n",
      "(Iteration 500) Training loss: 0.1257137656211853\n",
      "(Iteration 600) Training loss: 0.026006558910012245\n",
      "(Iteration 700) Training loss: 0.07039958983659744\n",
      "(Iteration 800) Training loss: 0.08131920546293259\n",
      "(Iteration 900) Training loss: 0.03178245574235916\n",
      "(Iteration 1000) Training loss: 0.035932477563619614\n",
      "(Iteration 1100) Training loss: 0.09253688901662827\n",
      "(Iteration 1200) Training loss: 0.02757108584046364\n",
      "(Iteration 1300) Training loss: 0.7135929465293884\n",
      "(Iteration 1400) Training loss: 0.07531067728996277\n",
      "(Iteration 1500) Training loss: 0.16770359873771667\n",
      "(Iteration 1600) Training loss: 0.06487569957971573\n",
      "(Iteration 1700) Training loss: 0.04261672496795654\n",
      "(Iteration 1800) Training loss: 0.215719535946846\n",
      "(Iteration 1900) Training loss: 0.1064004972577095\n",
      "(Iteration 2000) Training loss: 0.08492846041917801\n",
      "(Iteration 2100) Training loss: 0.18695639073848724\n",
      "(Iteration 2200) Training loss: 0.16298525035381317\n",
      "(Iteration 2300) Training loss: 0.09424930810928345\n",
      "(Iteration 2400) Training loss: 0.20027033984661102\n",
      "(Iteration 2500) Training loss: 0.04099344089627266\n",
      "(Iteration 2600) Training loss: 0.04611445963382721\n",
      "(Iteration 2700) Training loss: 0.1175142154097557\n",
      "(Iteration 2800) Training loss: 0.03582867980003357\n",
      "(Iteration 2900) Training loss: 0.35113969445228577\n",
      "(Iteration 3000) Training loss: 0.20745012164115906\n",
      "(Iteration 3100) Training loss: 0.024404900148510933\n",
      "(Iteration 3200) Training loss: 0.41998520493507385\n",
      "(Iteration 3300) Training loss: 0.06473094969987869\n",
      "(Iteration 3400) Training loss: 0.01696375198662281\n",
      "(Iteration 3500) Training loss: 0.0653354600071907\n",
      "(Iteration 3600) Training loss: 0.41527631878852844\n",
      "(Iteration 3700) Training loss: 0.30617445707321167\n",
      "(Iteration 3800) Training loss: 0.08497365564107895\n",
      "(Iteration 3900) Training loss: 0.024681562557816505\n",
      "(Iteration 4000) Training loss: 0.6155192852020264\n",
      "(Iteration 4100) Training loss: 0.09912542998790741\n",
      "(Iteration 4200) Training loss: 0.24786463379859924\n",
      "(Iteration 4300) Training loss: 0.07332007586956024\n",
      "(Iteration 4400) Training loss: 0.02592921070754528\n",
      "(Iteration 4500) Training loss: 0.8915494084358215\n",
      "(Iteration 4600) Training loss: 0.291538804769516\n",
      "(Iteration 4700) Training loss: 0.07712342590093613\n",
      "(Iteration 4800) Training loss: 0.15610545873641968\n",
      "(Iteration 4900) Training loss: 0.01902191899716854\n",
      "(Iteration 5000) Training loss: 0.11014749109745026\n"
     ]
    },
    {
     "name": "stderr",
     "output_type": "stream",
     "text": [
      "07/18/2024 18:47:34 - INFO - finbert.utils -   *** Example ***\n",
      "07/18/2024 18:47:34 - INFO - finbert.utils -   guid: 0\n",
      "07/18/2024 18:47:34 - INFO - finbert.utils -   tokens: [CLS] rt ##p received money ##lion ins ##ta ##cas ##h 48 ##8 [SEP]\n",
      "07/18/2024 18:47:34 - INFO - finbert.utils -   input_ids: 101 19387 2361 2363 2769 18964 16021 2696 15671 2232 4466 2620 102 0 0 0 0 0 0 0 0 0 0 0 0 0 0 0 0 0 0 0 0 0 0 0 0 0 0 0 0 0 0 0 0 0 0 0\n",
      "07/18/2024 18:47:34 - INFO - finbert.utils -   attention_mask: 1 1 1 1 1 1 1 1 1 1 1 1 1 0 0 0 0 0 0 0 0 0 0 0 0 0 0 0 0 0 0 0 0 0 0 0 0 0 0 0 0 0 0 0 0 0 0 0\n",
      "07/18/2024 18:47:34 - INFO - finbert.utils -   token_type_ids: 0 0 0 0 0 0 0 0 0 0 0 0 0 0 0 0 0 0 0 0 0 0 0 0 0 0 0 0 0 0 0 0 0 0 0 0 0 0 0 0 0 0 0 0 0 0 0 0\n",
      "07/18/2024 18:47:34 - INFO - finbert.utils -   label: Loans (id = 0)\n",
      "07/18/2024 18:47:39 - INFO - finbert.finbert -   ***** Loading data *****\n",
      "07/18/2024 18:47:39 - INFO - finbert.finbert -     Num examples = 68739\n",
      "07/18/2024 18:47:39 - INFO - finbert.finbert -     Batch size = 32\n",
      "07/18/2024 18:47:39 - INFO - finbert.finbert -     Num steps = 21480\n"
     ]
    },
    {
     "data": {
      "application/vnd.jupyter.widget-view+json": {
       "model_id": "9df9013fac3241739ec00fd1a042da25",
       "version_major": 2,
       "version_minor": 0
      },
      "text/plain": [
       "Validating:   0%|          | 0/2149 [00:00<?, ?it/s]"
      ]
     },
     "metadata": {},
     "output_type": "display_data"
    },
    {
     "name": "stdout",
     "output_type": "stream",
     "text": [
      "Validation losses: [0.5799220393079416, 0.5043733746258445, 0.41001141623374143, 0.396769596618917, 0.42151122965939647, 0.3938752062074414, 0.37931189097748164, 0.38214523738286754]\n",
      "Validation Accuracy: 0.9040\n"
     ]
    },
    {
     "name": "stderr",
     "output_type": "stream",
     "text": [
      "Epoch:  80%|████████  | 8/10 [3:01:20<45:19, 1359.51s/it]  "
     ]
    },
    {
     "data": {
      "application/vnd.jupyter.widget-view+json": {
       "model_id": "ca8b5fe814bd4c82a1f9a969b03e1133",
       "version_major": 2,
       "version_minor": 0
      },
      "text/plain": [
       "Iteration:   0%|          | 0/5013 [00:00<?, ?it/s]"
      ]
     },
     "metadata": {},
     "output_type": "display_data"
    },
    {
     "name": "stdout",
     "output_type": "stream",
     "text": [
      "(Iteration 0) Training loss: 0.08985567092895508\n",
      "(Iteration 100) Training loss: 0.35107022523880005\n",
      "(Iteration 200) Training loss: 0.015064402483403683\n",
      "(Iteration 300) Training loss: 0.7840164303779602\n",
      "(Iteration 400) Training loss: 0.08737221360206604\n",
      "(Iteration 500) Training loss: 0.06067093834280968\n",
      "(Iteration 600) Training loss: 0.08430716395378113\n",
      "(Iteration 700) Training loss: 0.028842037543654442\n",
      "(Iteration 800) Training loss: 0.11765879392623901\n",
      "(Iteration 900) Training loss: 0.03995703533291817\n",
      "(Iteration 1000) Training loss: 0.23261646926403046\n",
      "(Iteration 1100) Training loss: 3.7266383171081543\n",
      "(Iteration 1200) Training loss: 0.1545954793691635\n",
      "(Iteration 1300) Training loss: 0.5340873003005981\n",
      "(Iteration 1400) Training loss: 0.23913514614105225\n",
      "(Iteration 1500) Training loss: 0.028092699125409126\n",
      "(Iteration 1600) Training loss: 0.16820186376571655\n",
      "(Iteration 1700) Training loss: 0.10539138317108154\n",
      "(Iteration 1800) Training loss: 0.10141554474830627\n",
      "(Iteration 1900) Training loss: 0.22561506927013397\n",
      "(Iteration 2000) Training loss: 0.10271226614713669\n",
      "(Iteration 2100) Training loss: 0.38719865679740906\n",
      "(Iteration 2200) Training loss: 0.0019459158647805452\n",
      "(Iteration 2300) Training loss: 0.188713937997818\n",
      "(Iteration 2400) Training loss: 0.27179116010665894\n",
      "(Iteration 2500) Training loss: 0.03272727131843567\n",
      "(Iteration 2600) Training loss: 0.06710415333509445\n",
      "(Iteration 2700) Training loss: 0.13136506080627441\n",
      "(Iteration 2800) Training loss: 0.08906906843185425\n",
      "(Iteration 2900) Training loss: 0.16910217702388763\n",
      "(Iteration 3000) Training loss: 0.23917832970619202\n",
      "(Iteration 3100) Training loss: 0.2013983577489853\n",
      "(Iteration 3200) Training loss: 0.1903572678565979\n",
      "(Iteration 3300) Training loss: 0.30488425493240356\n",
      "(Iteration 3400) Training loss: 0.022027792409062386\n",
      "(Iteration 3500) Training loss: 0.060027096420526505\n",
      "(Iteration 3600) Training loss: 0.09691950678825378\n",
      "(Iteration 3700) Training loss: 0.18237550556659698\n",
      "(Iteration 3800) Training loss: 0.012660707347095013\n",
      "(Iteration 3900) Training loss: 0.11700189113616943\n",
      "(Iteration 4000) Training loss: 0.2509423792362213\n",
      "(Iteration 4100) Training loss: 0.015095732174813747\n",
      "(Iteration 4200) Training loss: 0.09304185211658478\n",
      "(Iteration 4300) Training loss: 0.030360853299498558\n",
      "(Iteration 4400) Training loss: 0.23267629742622375\n",
      "(Iteration 4500) Training loss: 0.06053901091217995\n",
      "(Iteration 4600) Training loss: 0.09417223185300827\n",
      "(Iteration 4700) Training loss: 0.047725409269332886\n",
      "(Iteration 4800) Training loss: 0.15294501185417175\n",
      "(Iteration 4900) Training loss: 0.07287491858005524\n",
      "(Iteration 5000) Training loss: 0.15417800843715668\n"
     ]
    },
    {
     "name": "stderr",
     "output_type": "stream",
     "text": [
      "07/18/2024 19:10:05 - INFO - finbert.utils -   *** Example ***\n",
      "07/18/2024 19:10:05 - INFO - finbert.utils -   guid: 0\n",
      "07/18/2024 19:10:05 - INFO - finbert.utils -   tokens: [CLS] rt ##p received money ##lion ins ##ta ##cas ##h 48 ##8 [SEP]\n",
      "07/18/2024 19:10:05 - INFO - finbert.utils -   input_ids: 101 19387 2361 2363 2769 18964 16021 2696 15671 2232 4466 2620 102 0 0 0 0 0 0 0 0 0 0 0 0 0 0 0 0 0 0 0 0 0 0 0 0 0 0 0 0 0 0 0 0 0 0 0\n",
      "07/18/2024 19:10:05 - INFO - finbert.utils -   attention_mask: 1 1 1 1 1 1 1 1 1 1 1 1 1 0 0 0 0 0 0 0 0 0 0 0 0 0 0 0 0 0 0 0 0 0 0 0 0 0 0 0 0 0 0 0 0 0 0 0\n",
      "07/18/2024 19:10:05 - INFO - finbert.utils -   token_type_ids: 0 0 0 0 0 0 0 0 0 0 0 0 0 0 0 0 0 0 0 0 0 0 0 0 0 0 0 0 0 0 0 0 0 0 0 0 0 0 0 0 0 0 0 0 0 0 0 0\n",
      "07/18/2024 19:10:05 - INFO - finbert.utils -   label: Loans (id = 0)\n",
      "07/18/2024 19:10:10 - INFO - finbert.finbert -   ***** Loading data *****\n",
      "07/18/2024 19:10:10 - INFO - finbert.finbert -     Num examples = 68739\n",
      "07/18/2024 19:10:10 - INFO - finbert.finbert -     Batch size = 32\n",
      "07/18/2024 19:10:10 - INFO - finbert.finbert -     Num steps = 21480\n"
     ]
    },
    {
     "data": {
      "application/vnd.jupyter.widget-view+json": {
       "model_id": "67dd82085050451aa255242dc02c5cf7",
       "version_major": 2,
       "version_minor": 0
      },
      "text/plain": [
       "Validating:   0%|          | 0/2149 [00:00<?, ?it/s]"
      ]
     },
     "metadata": {},
     "output_type": "display_data"
    },
    {
     "name": "stdout",
     "output_type": "stream",
     "text": [
      "Validation losses: [0.5799220393079416, 0.5043733746258445, 0.41001141623374143, 0.396769596618917, 0.42151122965939647, 0.3938752062074414, 0.37931189097748164, 0.38214523738286754, 0.3901790154324485]\n",
      "Validation Accuracy: 0.9078\n"
     ]
    },
    {
     "name": "stderr",
     "output_type": "stream",
     "text": [
      "Epoch:  90%|█████████ | 9/10 [3:23:51<22:36, 1356.79s/it]"
     ]
    },
    {
     "data": {
      "application/vnd.jupyter.widget-view+json": {
       "model_id": "aa9008d8e1b744da8e5d923885f27b6e",
       "version_major": 2,
       "version_minor": 0
      },
      "text/plain": [
       "Iteration:   0%|          | 0/5013 [00:00<?, ?it/s]"
      ]
     },
     "metadata": {},
     "output_type": "display_data"
    },
    {
     "name": "stdout",
     "output_type": "stream",
     "text": [
      "(Iteration 0) Training loss: 0.05954249948263168\n",
      "(Iteration 100) Training loss: 0.08362004160881042\n",
      "(Iteration 200) Training loss: 0.6835175156593323\n",
      "(Iteration 300) Training loss: 0.1416778266429901\n",
      "(Iteration 400) Training loss: 0.3615134656429291\n",
      "(Iteration 500) Training loss: 0.17148441076278687\n",
      "(Iteration 600) Training loss: 0.15235929191112518\n",
      "(Iteration 700) Training loss: 0.09528184682130814\n",
      "(Iteration 800) Training loss: 0.06382440775632858\n",
      "(Iteration 900) Training loss: 0.07699044048786163\n",
      "(Iteration 1000) Training loss: 0.05135718733072281\n",
      "(Iteration 1100) Training loss: 0.0718797966837883\n",
      "(Iteration 1200) Training loss: 0.14104001224040985\n",
      "(Iteration 1300) Training loss: 0.09840114414691925\n",
      "(Iteration 1400) Training loss: 0.04215167835354805\n",
      "(Iteration 1500) Training loss: 0.036543816328048706\n",
      "(Iteration 1600) Training loss: 0.010139521211385727\n",
      "(Iteration 1700) Training loss: 0.10808117687702179\n",
      "(Iteration 1800) Training loss: 0.04660505801439285\n",
      "(Iteration 1900) Training loss: 0.817329466342926\n",
      "(Iteration 2000) Training loss: 0.027435438707470894\n",
      "(Iteration 2100) Training loss: 0.300592303276062\n",
      "(Iteration 2200) Training loss: 0.1744879186153412\n",
      "(Iteration 2300) Training loss: 0.028439415618777275\n",
      "(Iteration 2400) Training loss: 0.13997797667980194\n",
      "(Iteration 2500) Training loss: 0.1652967780828476\n",
      "(Iteration 2600) Training loss: 0.13505931198596954\n",
      "(Iteration 2700) Training loss: 0.06546979397535324\n",
      "(Iteration 2800) Training loss: 0.09418682008981705\n",
      "(Iteration 2900) Training loss: 0.23062251508235931\n",
      "(Iteration 3000) Training loss: 0.47898945212364197\n",
      "(Iteration 3100) Training loss: 0.021337898448109627\n",
      "(Iteration 3200) Training loss: 0.020208554342389107\n",
      "(Iteration 3300) Training loss: 0.0754137858748436\n",
      "(Iteration 3400) Training loss: 0.006339275278151035\n",
      "(Iteration 3500) Training loss: 0.061881761997938156\n",
      "(Iteration 3600) Training loss: 0.10557997971773148\n",
      "(Iteration 3700) Training loss: 0.06599171459674835\n",
      "(Iteration 3800) Training loss: 0.6350553035736084\n",
      "(Iteration 3900) Training loss: 0.11357290297746658\n",
      "(Iteration 4000) Training loss: 0.029021525755524635\n",
      "(Iteration 4100) Training loss: 0.08315198868513107\n",
      "(Iteration 4200) Training loss: 0.28217560052871704\n",
      "(Iteration 4300) Training loss: 0.18083231151103973\n",
      "(Iteration 4400) Training loss: 0.0977548211812973\n",
      "(Iteration 4500) Training loss: 1.1438722610473633\n",
      "(Iteration 4600) Training loss: 0.06554307043552399\n",
      "(Iteration 4700) Training loss: 0.12284465879201889\n",
      "(Iteration 4800) Training loss: 0.05431997403502464\n",
      "(Iteration 4900) Training loss: 0.08995731174945831\n",
      "(Iteration 5000) Training loss: 0.15855532884597778\n"
     ]
    },
    {
     "name": "stderr",
     "output_type": "stream",
     "text": [
      "07/18/2024 19:32:44 - INFO - finbert.utils -   *** Example ***\n",
      "07/18/2024 19:32:44 - INFO - finbert.utils -   guid: 0\n",
      "07/18/2024 19:32:44 - INFO - finbert.utils -   tokens: [CLS] rt ##p received money ##lion ins ##ta ##cas ##h 48 ##8 [SEP]\n",
      "07/18/2024 19:32:44 - INFO - finbert.utils -   input_ids: 101 19387 2361 2363 2769 18964 16021 2696 15671 2232 4466 2620 102 0 0 0 0 0 0 0 0 0 0 0 0 0 0 0 0 0 0 0 0 0 0 0 0 0 0 0 0 0 0 0 0 0 0 0\n",
      "07/18/2024 19:32:44 - INFO - finbert.utils -   attention_mask: 1 1 1 1 1 1 1 1 1 1 1 1 1 0 0 0 0 0 0 0 0 0 0 0 0 0 0 0 0 0 0 0 0 0 0 0 0 0 0 0 0 0 0 0 0 0 0 0\n",
      "07/18/2024 19:32:44 - INFO - finbert.utils -   token_type_ids: 0 0 0 0 0 0 0 0 0 0 0 0 0 0 0 0 0 0 0 0 0 0 0 0 0 0 0 0 0 0 0 0 0 0 0 0 0 0 0 0 0 0 0 0 0 0 0 0\n",
      "07/18/2024 19:32:44 - INFO - finbert.utils -   label: Loans (id = 0)\n",
      "07/18/2024 19:32:49 - INFO - finbert.finbert -   ***** Loading data *****\n",
      "07/18/2024 19:32:49 - INFO - finbert.finbert -     Num examples = 68739\n",
      "07/18/2024 19:32:49 - INFO - finbert.finbert -     Batch size = 32\n",
      "07/18/2024 19:32:49 - INFO - finbert.finbert -     Num steps = 21480\n"
     ]
    },
    {
     "data": {
      "application/vnd.jupyter.widget-view+json": {
       "model_id": "46533ff2a9654b0a98931f1f0bef1a17",
       "version_major": 2,
       "version_minor": 0
      },
      "text/plain": [
       "Validating:   0%|          | 0/2149 [00:00<?, ?it/s]"
      ]
     },
     "metadata": {},
     "output_type": "display_data"
    },
    {
     "name": "stdout",
     "output_type": "stream",
     "text": [
      "Validation losses: [0.5799220393079416, 0.5043733746258445, 0.41001141623374143, 0.396769596618917, 0.42151122965939647, 0.3938752062074414, 0.37931189097748164, 0.38214523738286754, 0.3901790154324485, 0.39054488360537487]\n",
      "Validation Accuracy: 0.9071\n"
     ]
    },
    {
     "name": "stderr",
     "output_type": "stream",
     "text": [
      "Epoch: 100%|██████████| 10/10 [3:46:31<00:00, 1359.11s/it]\n"
     ]
    }
   ],
   "source": [
    "trained_model = finbert.train(train_examples = train_examples, model = model, train_numeric_feats=numeric_feats)"
   ]
  },
  {
   "cell_type": "code",
   "execution_count": 14,
   "metadata": {},
   "outputs": [],
   "source": [
    "import pickle\n",
    "with open(\"./trained_model_4.pkl\", \"wb\") as f:\n",
    "    pickle.dump(trained_model, f)"
   ]
  },
  {
   "cell_type": "code",
   "execution_count": 21,
   "metadata": {},
   "outputs": [],
   "source": [
    "test_examples, test_numeric_feats = finbert.get_data(\"eval\")"
   ]
  },
  {
   "cell_type": "code",
   "execution_count": 22,
   "metadata": {},
   "outputs": [
    {
     "name": "stderr",
     "output_type": "stream",
     "text": [
      "07/18/2024 20:04:41 - INFO - finbert.utils -   *** Example ***\n",
      "07/18/2024 20:04:41 - INFO - finbert.utils -   guid: 0\n",
      "07/18/2024 20:04:41 - INFO - finbert.utils -   tokens: [CLS] rt ##p received money ##lion ins ##ta ##cas ##h 48 ##8 [SEP]\n",
      "07/18/2024 20:04:41 - INFO - finbert.utils -   input_ids: 101 19387 2361 2363 2769 18964 16021 2696 15671 2232 4466 2620 102 0 0 0 0 0 0 0 0 0 0 0 0 0 0 0 0 0 0 0 0 0 0 0 0 0 0 0 0 0 0 0 0 0 0 0\n",
      "07/18/2024 20:04:41 - INFO - finbert.utils -   attention_mask: 1 1 1 1 1 1 1 1 1 1 1 1 1 0 0 0 0 0 0 0 0 0 0 0 0 0 0 0 0 0 0 0 0 0 0 0 0 0 0 0 0 0 0 0 0 0 0 0\n",
      "07/18/2024 20:04:41 - INFO - finbert.utils -   token_type_ids: 0 0 0 0 0 0 0 0 0 0 0 0 0 0 0 0 0 0 0 0 0 0 0 0 0 0 0 0 0 0 0 0 0 0 0 0 0 0 0 0 0 0 0 0 0 0 0 0\n",
      "07/18/2024 20:04:41 - INFO - finbert.utils -   label: Loans (id = 0)\n"
     ]
    },
    {
     "name": "stderr",
     "output_type": "stream",
     "text": [
      "07/18/2024 20:04:46 - INFO - finbert.finbert -   ***** Loading data *****\n",
      "07/18/2024 20:04:46 - INFO - finbert.finbert -     Num examples = 68739\n",
      "07/18/2024 20:04:46 - INFO - finbert.finbert -     Batch size = 32\n",
      "07/18/2024 20:04:46 - INFO - finbert.finbert -     Num steps = 21480\n",
      "07/18/2024 20:04:46 - INFO - finbert.finbert -   ***** Running evaluation ***** \n",
      "07/18/2024 20:04:46 - INFO - finbert.finbert -     Num examples = 68739\n",
      "07/18/2024 20:04:46 - INFO - finbert.finbert -     Batch size = 32\n"
     ]
    },
    {
     "data": {
      "application/vnd.jupyter.widget-view+json": {
       "model_id": "8cc760f9f73d4f068b618e34df8267f8",
       "version_major": 2,
       "version_minor": 0
      },
      "text/plain": [
       "Testing:   0%|          | 0/2149 [00:00<?, ?it/s]"
      ]
     },
     "metadata": {},
     "output_type": "display_data"
    },
    {
     "name": "stdout",
     "output_type": "stream",
     "text": [
      "Evaluation loss: 0.2720436788037967\n"
     ]
    }
   ],
   "source": [
    "results = finbert.evaluate(trained_model, test_examples, test_numeric_feats)"
   ]
  },
  {
   "cell_type": "code",
   "execution_count": 23,
   "metadata": {},
   "outputs": [],
   "source": [
    "preds = results[\"predictions\"].apply(lambda x: np.argmax(x, axis=0))"
   ]
  },
  {
   "cell_type": "code",
   "execution_count": 24,
   "metadata": {},
   "outputs": [],
   "source": [
    "label_mapping = {i:label for i, label in enumerate(finbert.label_list)}"
   ]
  },
  {
   "cell_type": "code",
   "execution_count": 25,
   "metadata": {},
   "outputs": [],
   "source": [
    "preds = [label_mapping[p] for p in preds]"
   ]
  },
  {
   "cell_type": "code",
   "execution_count": 26,
   "metadata": {},
   "outputs": [],
   "source": [
    "labels = [label_mapping[l] for l in results[\"labels\"]]"
   ]
  },
  {
   "cell_type": "code",
   "execution_count": 27,
   "metadata": {},
   "outputs": [
    {
     "name": "stderr",
     "output_type": "stream",
     "text": [
      "/home/student/anaconda3/envs/mls/lib/python3.7/site-packages/sklearn/metrics/classification.py:1437: UndefinedMetricWarning: Precision and F-score are ill-defined and being set to 0.0 in labels with no predicted samples.\n",
      "  'precision', 'predicted', average, warn_for)\n"
     ]
    },
    {
     "name": "stdout",
     "output_type": "stream",
     "text": [
      "                            precision    recall  f1-score   support\n",
      "\n",
      "                       ATM      0.996     0.999     0.998      1702\n",
      "    Arts and Entertainment      0.921     0.975     0.947       119\n",
      "                 Bank Fees      0.994     0.993     0.994      1940\n",
      "             Check Deposit      0.940     1.000     0.969        63\n",
      "  Clothing and Accessories      0.860     0.889     0.875       957\n",
      "        Convenience Stores      0.721     0.711     0.716      5589\n",
      "         Department Stores      0.685     0.844     0.756       601\n",
      "     Digital Entertainment      0.946     0.932     0.939      1358\n",
      "Food and Beverage Services      0.683     0.835     0.751       103\n",
      "              Gas Stations      0.470     0.595     0.525      3876\n",
      "  Gyms and Fitness Centers      0.679     0.905     0.776        21\n",
      "                Healthcare      0.568     0.742     0.643        62\n",
      "                 Insurance      0.959     0.888     0.922       526\n",
      "                  Interest      1.000     1.000     1.000        84\n",
      " Internal Account Transfer      0.998     0.981     0.989      3595\n",
      "                     Loans      0.983     0.960     0.971      5881\n",
      "                   Payment      0.846     0.917     0.880        12\n",
      "                   Payroll      0.976     0.952     0.964      2430\n",
      "               Restaurants      0.972     0.861     0.913      7910\n",
      "                   Service      0.915     0.791     0.849       273\n",
      "                     Shops      0.957     0.891     0.923      2225\n",
      "Supermarkets and Groceries      0.892     0.892     0.892      5025\n",
      "                Tax Refund      0.000     0.000     0.000         2\n",
      "Telecommunication Services      0.860     0.896     0.878        48\n",
      "               Third Party      0.993     0.986     0.990      8614\n",
      "           Transfer Credit      0.983     0.987     0.985      6729\n",
      "            Transfer Debit      0.981     0.977     0.979      6156\n",
      "          Transfer Deposit      0.949     0.987     0.968      1493\n",
      "                    Travel      0.711     0.873     0.784       110\n",
      "                 Utilities      0.827     0.960     0.889      1235\n",
      "\n",
      "                  accuracy                          0.907     68739\n",
      "                 macro avg      0.842     0.874     0.855     68739\n",
      "              weighted avg      0.916     0.907     0.910     68739\n",
      "\n"
     ]
    }
   ],
   "source": [
    "print(classification_report(labels, preds, digits=3))"
   ]
  },
  {
   "cell_type": "code",
   "execution_count": null,
   "metadata": {},
   "outputs": [],
   "source": []
  }
 ],
 "metadata": {
  "kernelspec": {
   "display_name": "finbert",
   "language": "python",
   "name": "python3"
  },
  "language_info": {
   "codemirror_mode": {
    "name": "ipython",
    "version": 3
   },
   "file_extension": ".py",
   "mimetype": "text/x-python",
   "name": "python",
   "nbconvert_exporter": "python",
   "pygments_lexer": "ipython3",
   "version": "3.7.3"
  }
 },
 "nbformat": 4,
 "nbformat_minor": 2
}
