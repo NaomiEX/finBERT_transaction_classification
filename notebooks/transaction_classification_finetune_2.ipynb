{
 "cells": [
  {
   "cell_type": "code",
   "execution_count": 1,
   "metadata": {},
   "outputs": [],
   "source": [
    "%load_ext autoreload\n",
    "%autoreload 2\n",
    "\n",
    "from pathlib import Path\n",
    "import shutil\n",
    "import os\n",
    "import logging\n",
    "import sys\n",
    "sys.path.append('..')\n",
    "\n",
    "from textblob import TextBlob\n",
    "from pprint import pprint\n",
    "from sklearn.metrics import classification_report\n",
    "from sklearn.preprocessing import StandardScaler\n",
    "\n",
    "from transformers import AutoModelForSequenceClassification\n",
    "\n",
    "from finbert.finbert import *\n",
    "import finbert.utils as tools\n",
    "from finbert.custom_finbert import CustomFinBert\n",
    "\n",
    "project_dir = Path.cwd().parent\n",
    "pd.set_option('max_colwidth', -1)\n",
    "\n",
    "logging.basicConfig(format = '%(asctime)s - %(levelname)s - %(name)s -   %(message)s',\n",
    "                    datefmt = '%m/%d/%Y %H:%M:%S',\n",
    "                    level = logging.ERROR)"
   ]
  },
  {
   "cell_type": "code",
   "execution_count": 2,
   "metadata": {},
   "outputs": [],
   "source": [
    "standard_dir = project_dir.parent.parent"
   ]
  },
  {
   "cell_type": "markdown",
   "metadata": {},
   "source": [
    "# ! TODO: PUT THE PREPROCESSING CODE HERE AND STORE PROCESSED DF"
   ]
  },
  {
   "cell_type": "markdown",
   "metadata": {},
   "source": [
    "# Prepare model"
   ]
  },
  {
   "cell_type": "code",
   "execution_count": 3,
   "metadata": {},
   "outputs": [],
   "source": [
    "lm_path = project_dir/'models'/'language_model'/'finbertTRC2'\n",
    "final_model_dir = project_dir/'models'/'classification_model_256_hidden_dim'\n",
    "data_dir = standard_dir/\"Data\"\n",
    "# classification_data_path= standard_dir/'Data'/'sentiment_data'"
   ]
  },
  {
   "cell_type": "markdown",
   "metadata": {},
   "source": [
    "## Configure training parameters"
   ]
  },
  {
   "cell_type": "code",
   "execution_count": 4,
   "metadata": {},
   "outputs": [
    {
     "name": "stderr",
     "output_type": "stream",
     "text": [
      "Some weights of the model checkpoint at /media/student/HDD 2/Michelle/MLS/advanced/finBERT_transaction_classification/models/language_model/finbertTRC2 were not used when initializing BertForSequenceClassification: ['cls.predictions.bias', 'cls.predictions.transform.dense.weight', 'cls.predictions.transform.dense.bias', 'cls.predictions.transform.LayerNorm.weight', 'cls.predictions.transform.LayerNorm.bias', 'cls.predictions.decoder.weight', 'cls.seq_relationship.weight', 'cls.seq_relationship.bias']\n",
      "- This IS expected if you are initializing BertForSequenceClassification from the checkpoint of a model trained on another task or with another architecture (e.g. initializing a BertForSequenceClassification model from a BertForPreTraining model).\n",
      "- This IS NOT expected if you are initializing BertForSequenceClassification from the checkpoint of a model that you expect to be exactly identical (initializing a BertForSequenceClassification model from a BertForSequenceClassification model).\n",
      "Some weights of BertForSequenceClassification were not initialized from the model checkpoint at /media/student/HDD 2/Michelle/MLS/advanced/finBERT_transaction_classification/models/language_model/finbertTRC2 and are newly initialized: ['classifier.weight', 'classifier.bias']\n",
      "You should probably TRAIN this model on a down-stream task to be able to use it for predictions and inference.\n"
     ]
    }
   ],
   "source": [
    "# Clean the cl_path\n",
    "try:\n",
    "    shutil.rmtree(final_model_dir) \n",
    "except:\n",
    "    pass\n",
    "\n",
    "## load the pretrained language model trained on Reuters TRC2\n",
    "bertmodel = AutoModelForSequenceClassification.from_pretrained(\n",
    "    lm_path, cache_dir=None, num_labels=30)"
   ]
  },
  {
   "cell_type": "code",
   "execution_count": 5,
   "metadata": {},
   "outputs": [],
   "source": [
    "custom_finbert = CustomFinBert(bertmodel, 38, 30, hidden_dims=[256])"
   ]
  },
  {
   "cell_type": "code",
   "execution_count": 6,
   "metadata": {},
   "outputs": [],
   "source": [
    "config = Config(\n",
    "    data_dir=data_dir,\n",
    "    model_dir=final_model_dir,\n",
    "    bert_model=custom_finbert,\n",
    "    num_train_epochs=10,\n",
    "    max_seq_length=48,\n",
    "    train_batch_size=32,\n",
    "    learning_rate=2e-5,\n",
    "    output_mode=\"classification\",\n",
    "    warm_up_proportion=0.2,\n",
    "    local_rank=-1,\n",
    "    discriminate=True,\n",
    "    gradual_unfreeze=False,\n",
    "    numeric_params=38,\n",
    "    label_colname=\"category\"\n",
    ")"
   ]
  },
  {
   "cell_type": "code",
   "execution_count": 7,
   "metadata": {},
   "outputs": [],
   "source": [
    "finbert = FinBert(config, transaction_classification=True)"
   ]
  },
  {
   "cell_type": "code",
   "execution_count": 8,
   "metadata": {},
   "outputs": [],
   "source": [
    "y = pd.read_csv(standard_dir/\"Data\"/\"eval.csv\")[\"category\"]"
   ]
  },
  {
   "cell_type": "code",
   "execution_count": 9,
   "metadata": {},
   "outputs": [
    {
     "name": "stderr",
     "output_type": "stream",
     "text": [
      "07/18/2024 11:13:47 - INFO - finbert.finbert -   device: cuda n_gpu: 2, distributed training: False, 16-bits training: False\n"
     ]
    }
   ],
   "source": [
    "finbert.prepare_model(label_list=y.unique().tolist())"
   ]
  },
  {
   "cell_type": "code",
   "execution_count": 10,
   "metadata": {},
   "outputs": [],
   "source": [
    "train_examples, numeric_feats = finbert.get_data(\"train\")"
   ]
  },
  {
   "cell_type": "code",
   "execution_count": 11,
   "metadata": {},
   "outputs": [],
   "source": [
    "model = finbert.create_the_model()"
   ]
  },
  {
   "cell_type": "code",
   "execution_count": 12,
   "metadata": {},
   "outputs": [
    {
     "name": "stderr",
     "output_type": "stream",
     "text": [
      "07/18/2024 11:13:56 - INFO - finbert.utils -   *** Example ***\n",
      "07/18/2024 11:13:56 - INFO - finbert.utils -   guid: 0\n",
      "07/18/2024 11:13:56 - INFO - finbert.utils -   tokens: [CLS] ac ##h withdrawal am ##mar ##yse hem ##ant ##ne ##x ##press transfer [SEP]\n",
      "07/18/2024 11:13:56 - INFO - finbert.utils -   input_ids: 101 9353 2232 10534 2572 7849 23274 19610 4630 2638 2595 20110 4651 102 0 0 0 0 0 0 0 0 0 0 0 0 0 0 0 0 0 0 0 0 0 0 0 0 0 0 0 0 0 0 0 0 0 0\n",
      "07/18/2024 11:13:56 - INFO - finbert.utils -   attention_mask: 1 1 1 1 1 1 1 1 1 1 1 1 1 1 0 0 0 0 0 0 0 0 0 0 0 0 0 0 0 0 0 0 0 0 0 0 0 0 0 0 0 0 0 0 0 0 0 0\n",
      "07/18/2024 11:13:56 - INFO - finbert.utils -   token_type_ids: 0 0 0 0 0 0 0 0 0 0 0 0 0 0 0 0 0 0 0 0 0 0 0 0 0 0 0 0 0 0 0 0 0 0 0 0 0 0 0 0 0 0 0 0 0 0 0 0\n",
      "07/18/2024 11:13:56 - INFO - finbert.utils -   label: Transfer Debit (id = 2)\n",
      "07/18/2024 11:14:08 - INFO - finbert.finbert -   ***** Loading data *****\n",
      "07/18/2024 11:14:08 - INFO - finbert.finbert -     Num examples = 160391\n",
      "07/18/2024 11:14:08 - INFO - finbert.finbert -     Batch size = 32\n",
      "07/18/2024 11:14:08 - INFO - finbert.finbert -     Num steps = 21480\n",
      "Epoch:   0%|          | 0/10 [00:00<?, ?it/s]"
     ]
    },
    {
     "data": {
      "application/vnd.jupyter.widget-view+json": {
       "model_id": "54cc338342114a669b42619c6438cc6c",
       "version_major": 2,
       "version_minor": 0
      },
      "text/plain": [
       "Iteration:   0%|          | 0/5013 [00:00<?, ?it/s]"
      ]
     },
     "metadata": {},
     "output_type": "display_data"
    },
    {
     "name": "stdout",
     "output_type": "stream",
     "text": [
      "(Iteration 0) Training loss: 3.5488927364349365\n",
      "(Iteration 100) Training loss: 3.3954172134399414\n",
      "(Iteration 200) Training loss: 3.4377686977386475\n",
      "(Iteration 300) Training loss: 3.3448245525360107\n",
      "(Iteration 400) Training loss: 3.4722142219543457\n",
      "(Iteration 500) Training loss: 3.2703239917755127\n",
      "(Iteration 600) Training loss: 3.3134829998016357\n",
      "(Iteration 700) Training loss: 3.195587158203125\n",
      "(Iteration 800) Training loss: 3.125565528869629\n",
      "(Iteration 900) Training loss: 3.1242454051971436\n",
      "(Iteration 1000) Training loss: 3.1316120624542236\n",
      "(Iteration 1100) Training loss: 3.1121156215667725\n",
      "(Iteration 1200) Training loss: 2.914438247680664\n",
      "(Iteration 1300) Training loss: 2.8431332111358643\n",
      "(Iteration 1400) Training loss: 2.9618353843688965\n",
      "(Iteration 1500) Training loss: 2.888730049133301\n",
      "(Iteration 1600) Training loss: 2.765958547592163\n",
      "(Iteration 1700) Training loss: 2.582751512527466\n",
      "(Iteration 1800) Training loss: 2.3954269886016846\n",
      "(Iteration 1900) Training loss: 2.292456865310669\n",
      "(Iteration 2000) Training loss: 2.370725393295288\n",
      "(Iteration 2100) Training loss: 2.863854169845581\n",
      "(Iteration 2200) Training loss: 2.4016637802124023\n",
      "(Iteration 2300) Training loss: 2.3817944526672363\n",
      "(Iteration 2400) Training loss: 1.8303983211517334\n",
      "(Iteration 2500) Training loss: 2.3730692863464355\n",
      "(Iteration 2600) Training loss: 1.715238094329834\n",
      "(Iteration 2700) Training loss: 1.8996756076812744\n",
      "(Iteration 2800) Training loss: 2.2808315753936768\n",
      "(Iteration 2900) Training loss: 1.2246999740600586\n",
      "(Iteration 3000) Training loss: 4.186525344848633\n",
      "(Iteration 3100) Training loss: 3.6274008750915527\n",
      "(Iteration 3200) Training loss: 1.8923062086105347\n",
      "(Iteration 3300) Training loss: 3.1151928901672363\n",
      "(Iteration 3400) Training loss: 1.3194198608398438\n",
      "(Iteration 3500) Training loss: 3.3717057704925537\n",
      "(Iteration 3600) Training loss: 2.4970152378082275\n",
      "(Iteration 3700) Training loss: 1.1309797763824463\n",
      "(Iteration 3800) Training loss: 1.2501293420791626\n",
      "(Iteration 3900) Training loss: 1.041517972946167\n",
      "(Iteration 4000) Training loss: 1.0673588514328003\n",
      "(Iteration 4100) Training loss: 1.2822370529174805\n",
      "(Iteration 4200) Training loss: 0.8100963830947876\n",
      "(Iteration 4300) Training loss: 0.7943839430809021\n",
      "(Iteration 4400) Training loss: 1.0021027326583862\n",
      "(Iteration 4500) Training loss: 0.779739260673523\n",
      "(Iteration 4600) Training loss: 0.6438426375389099\n",
      "(Iteration 4700) Training loss: 5.404483318328857\n",
      "(Iteration 4800) Training loss: 0.5846394896507263\n",
      "(Iteration 4900) Training loss: 3.4015069007873535\n",
      "(Iteration 5000) Training loss: 1.0110927820205688\n"
     ]
    },
    {
     "name": "stderr",
     "output_type": "stream",
     "text": [
      "07/18/2024 11:34:10 - INFO - finbert.utils -   *** Example ***\n",
      "07/18/2024 11:34:10 - INFO - finbert.utils -   guid: 0\n",
      "07/18/2024 11:34:10 - INFO - finbert.utils -   tokens: [CLS] rt ##p received money ##lion ins ##ta ##cas ##h 48 ##8 [SEP]\n",
      "07/18/2024 11:34:10 - INFO - finbert.utils -   input_ids: 101 19387 2361 2363 2769 18964 16021 2696 15671 2232 4466 2620 102 0 0 0 0 0 0 0 0 0 0 0 0 0 0 0 0 0 0 0 0 0 0 0 0 0 0 0 0 0 0 0 0 0 0 0\n",
      "07/18/2024 11:34:10 - INFO - finbert.utils -   attention_mask: 1 1 1 1 1 1 1 1 1 1 1 1 1 0 0 0 0 0 0 0 0 0 0 0 0 0 0 0 0 0 0 0 0 0 0 0 0 0 0 0 0 0 0 0 0 0 0 0\n",
      "07/18/2024 11:34:10 - INFO - finbert.utils -   token_type_ids: 0 0 0 0 0 0 0 0 0 0 0 0 0 0 0 0 0 0 0 0 0 0 0 0 0 0 0 0 0 0 0 0 0 0 0 0 0 0 0 0 0 0 0 0 0 0 0 0\n",
      "07/18/2024 11:34:10 - INFO - finbert.utils -   label: Loans (id = 0)\n",
      "07/18/2024 11:34:15 - INFO - finbert.finbert -   ***** Loading data *****\n",
      "07/18/2024 11:34:15 - INFO - finbert.finbert -     Num examples = 68739\n",
      "07/18/2024 11:34:15 - INFO - finbert.finbert -     Batch size = 32\n",
      "07/18/2024 11:34:15 - INFO - finbert.finbert -     Num steps = 21480\n"
     ]
    },
    {
     "data": {
      "application/vnd.jupyter.widget-view+json": {
       "model_id": "3e474f425c3d483da34cde7f4dd22b1c",
       "version_major": 2,
       "version_minor": 0
      },
      "text/plain": [
       "Validating:   0%|          | 0/2149 [00:00<?, ?it/s]"
      ]
     },
     "metadata": {},
     "output_type": "display_data"
    },
    {
     "name": "stdout",
     "output_type": "stream",
     "text": [
      "Validation losses: [1.0823279039673386]\n",
      "Validation Accuracy: 0.7632\n",
      "No best model found\n"
     ]
    },
    {
     "name": "stderr",
     "output_type": "stream",
     "text": [
      "Epoch:  10%|█         | 1/10 [22:30<3:22:34, 1350.51s/it]"
     ]
    },
    {
     "data": {
      "application/vnd.jupyter.widget-view+json": {
       "model_id": "fe13b626852040ccb2cd03e0f26b6e70",
       "version_major": 2,
       "version_minor": 0
      },
      "text/plain": [
       "Iteration:   0%|          | 0/5013 [00:00<?, ?it/s]"
      ]
     },
     "metadata": {},
     "output_type": "display_data"
    },
    {
     "name": "stdout",
     "output_type": "stream",
     "text": [
      "(Iteration 0) Training loss: 0.39581629633903503\n",
      "(Iteration 100) Training loss: 0.7217799425125122\n",
      "(Iteration 200) Training loss: 0.9955273866653442\n",
      "(Iteration 300) Training loss: 1.1689791679382324\n",
      "(Iteration 400) Training loss: 1.8410831689834595\n",
      "(Iteration 500) Training loss: 0.9113364815711975\n",
      "(Iteration 600) Training loss: 0.7064817547798157\n",
      "(Iteration 700) Training loss: 1.2638002634048462\n",
      "(Iteration 800) Training loss: 0.6762069463729858\n",
      "(Iteration 900) Training loss: 0.7368118762969971\n",
      "(Iteration 1000) Training loss: 0.83381187915802\n",
      "(Iteration 1100) Training loss: 1.8166134357452393\n",
      "(Iteration 1200) Training loss: 0.6714252829551697\n",
      "(Iteration 1300) Training loss: 0.7715001702308655\n",
      "(Iteration 1400) Training loss: 0.7104709148406982\n",
      "(Iteration 1500) Training loss: 1.0635074377059937\n",
      "(Iteration 1600) Training loss: 0.9281696081161499\n",
      "(Iteration 1700) Training loss: 0.48990073800086975\n",
      "(Iteration 1800) Training loss: 0.2792249619960785\n",
      "(Iteration 1900) Training loss: 0.3064678907394409\n",
      "(Iteration 2000) Training loss: 0.6542540192604065\n",
      "(Iteration 2100) Training loss: 0.4124523401260376\n",
      "(Iteration 2200) Training loss: 0.3713143467903137\n",
      "(Iteration 2300) Training loss: 0.5234838128089905\n",
      "(Iteration 2400) Training loss: 0.8727716207504272\n",
      "(Iteration 2500) Training loss: 0.8922267556190491\n",
      "(Iteration 2600) Training loss: 0.68792724609375\n",
      "(Iteration 2700) Training loss: 0.6155094504356384\n",
      "(Iteration 2800) Training loss: 0.5311124324798584\n",
      "(Iteration 2900) Training loss: 0.9803202748298645\n",
      "(Iteration 3000) Training loss: 0.33616867661476135\n",
      "(Iteration 3100) Training loss: 0.6716715097427368\n",
      "(Iteration 3200) Training loss: 0.2982771098613739\n",
      "(Iteration 3300) Training loss: 0.7403972148895264\n",
      "(Iteration 3400) Training loss: 0.2226683646440506\n",
      "(Iteration 3500) Training loss: 0.5973901748657227\n",
      "(Iteration 3600) Training loss: 0.5337623357772827\n",
      "(Iteration 3700) Training loss: 0.4167451858520508\n",
      "(Iteration 3800) Training loss: 0.3078508973121643\n",
      "(Iteration 3900) Training loss: 1.1427335739135742\n",
      "(Iteration 4000) Training loss: 5.980975151062012\n",
      "(Iteration 4100) Training loss: 0.5582185387611389\n",
      "(Iteration 4200) Training loss: 0.2648707628250122\n",
      "(Iteration 4300) Training loss: 0.2684604227542877\n",
      "(Iteration 4400) Training loss: 0.18421520292758942\n",
      "(Iteration 4500) Training loss: 0.42077502608299255\n",
      "(Iteration 4600) Training loss: 0.5262356400489807\n",
      "(Iteration 4700) Training loss: 0.419950395822525\n",
      "(Iteration 4800) Training loss: 2.5296547412872314\n",
      "(Iteration 4900) Training loss: 0.41891980171203613\n",
      "(Iteration 5000) Training loss: 0.6807918548583984\n"
     ]
    },
    {
     "name": "stderr",
     "output_type": "stream",
     "text": [
      "07/18/2024 11:56:56 - INFO - finbert.utils -   *** Example ***\n",
      "07/18/2024 11:56:56 - INFO - finbert.utils -   guid: 0\n",
      "07/18/2024 11:56:56 - INFO - finbert.utils -   tokens: [CLS] rt ##p received money ##lion ins ##ta ##cas ##h 48 ##8 [SEP]\n",
      "07/18/2024 11:56:56 - INFO - finbert.utils -   input_ids: 101 19387 2361 2363 2769 18964 16021 2696 15671 2232 4466 2620 102 0 0 0 0 0 0 0 0 0 0 0 0 0 0 0 0 0 0 0 0 0 0 0 0 0 0 0 0 0 0 0 0 0 0 0\n",
      "07/18/2024 11:56:56 - INFO - finbert.utils -   attention_mask: 1 1 1 1 1 1 1 1 1 1 1 1 1 0 0 0 0 0 0 0 0 0 0 0 0 0 0 0 0 0 0 0 0 0 0 0 0 0 0 0 0 0 0 0 0 0 0 0\n",
      "07/18/2024 11:56:56 - INFO - finbert.utils -   token_type_ids: 0 0 0 0 0 0 0 0 0 0 0 0 0 0 0 0 0 0 0 0 0 0 0 0 0 0 0 0 0 0 0 0 0 0 0 0 0 0 0 0 0 0 0 0 0 0 0 0\n",
      "07/18/2024 11:56:56 - INFO - finbert.utils -   label: Loans (id = 0)\n",
      "07/18/2024 11:57:01 - INFO - finbert.finbert -   ***** Loading data *****\n",
      "07/18/2024 11:57:01 - INFO - finbert.finbert -     Num examples = 68739\n",
      "07/18/2024 11:57:01 - INFO - finbert.finbert -     Batch size = 32\n",
      "07/18/2024 11:57:01 - INFO - finbert.finbert -     Num steps = 21480\n"
     ]
    },
    {
     "data": {
      "application/vnd.jupyter.widget-view+json": {
       "model_id": "8e6d090470ef45248844d3174ec8c572",
       "version_major": 2,
       "version_minor": 0
      },
      "text/plain": [
       "Validating:   0%|          | 0/2149 [00:00<?, ?it/s]"
      ]
     },
     "metadata": {},
     "output_type": "display_data"
    },
    {
     "name": "stdout",
     "output_type": "stream",
     "text": [
      "Validation losses: [1.0823279039673386, 0.567875035701726]\n",
      "Validation Accuracy: 0.8477\n"
     ]
    },
    {
     "name": "stderr",
     "output_type": "stream",
     "text": [
      "Epoch:  20%|██        | 2/10 [45:15<3:01:14, 1359.30s/it]"
     ]
    },
    {
     "data": {
      "application/vnd.jupyter.widget-view+json": {
       "model_id": "46146cee3ff5402b867de6b56d2e8c87",
       "version_major": 2,
       "version_minor": 0
      },
      "text/plain": [
       "Iteration:   0%|          | 0/5013 [00:00<?, ?it/s]"
      ]
     },
     "metadata": {},
     "output_type": "display_data"
    },
    {
     "name": "stdout",
     "output_type": "stream",
     "text": [
      "(Iteration 0) Training loss: 0.30549052357673645\n",
      "(Iteration 100) Training loss: 0.5448124408721924\n",
      "(Iteration 200) Training loss: 0.19052715599536896\n",
      "(Iteration 300) Training loss: 0.4199184775352478\n",
      "(Iteration 400) Training loss: 0.9848079085350037\n",
      "(Iteration 500) Training loss: 0.24357745051383972\n",
      "(Iteration 600) Training loss: 0.31310519576072693\n",
      "(Iteration 700) Training loss: 0.08498489856719971\n",
      "(Iteration 800) Training loss: 0.13566680252552032\n",
      "(Iteration 900) Training loss: 0.14553208649158478\n",
      "(Iteration 1000) Training loss: 7.066809177398682\n",
      "(Iteration 1100) Training loss: 0.505128026008606\n",
      "(Iteration 1200) Training loss: 0.19817344844341278\n",
      "(Iteration 1300) Training loss: 0.19511936604976654\n",
      "(Iteration 1400) Training loss: 0.213861882686615\n",
      "(Iteration 1500) Training loss: 0.22337782382965088\n",
      "(Iteration 1600) Training loss: 0.2543811798095703\n",
      "(Iteration 1700) Training loss: 0.2122201919555664\n",
      "(Iteration 1800) Training loss: 0.5356157422065735\n",
      "(Iteration 1900) Training loss: 0.1879730373620987\n",
      "(Iteration 2000) Training loss: 0.58292156457901\n",
      "(Iteration 2100) Training loss: 0.14476364850997925\n",
      "(Iteration 2200) Training loss: 0.6633161902427673\n",
      "(Iteration 2300) Training loss: 0.6000998616218567\n",
      "(Iteration 2400) Training loss: 0.9982199668884277\n",
      "(Iteration 2500) Training loss: 0.4480031728744507\n",
      "(Iteration 2600) Training loss: 0.6798781156539917\n",
      "(Iteration 2700) Training loss: 0.23005639016628265\n",
      "(Iteration 2800) Training loss: 0.1469893604516983\n",
      "(Iteration 2900) Training loss: 0.2896263599395752\n",
      "(Iteration 3000) Training loss: 0.5686889886856079\n",
      "(Iteration 3100) Training loss: 0.033776428550481796\n",
      "(Iteration 3200) Training loss: 1.1128252744674683\n",
      "(Iteration 3300) Training loss: 0.04082878306508064\n",
      "(Iteration 3400) Training loss: 0.41504383087158203\n",
      "(Iteration 3500) Training loss: 0.11758841574192047\n",
      "(Iteration 3600) Training loss: 0.5840522646903992\n",
      "(Iteration 3700) Training loss: 0.4545046389102936\n",
      "(Iteration 3800) Training loss: 0.6328394412994385\n",
      "(Iteration 3900) Training loss: 0.14012056589126587\n",
      "(Iteration 4000) Training loss: 1.13153076171875\n",
      "(Iteration 4100) Training loss: 0.2365477979183197\n",
      "(Iteration 4200) Training loss: 0.37561509013175964\n",
      "(Iteration 4300) Training loss: 0.18679316341876984\n",
      "(Iteration 4400) Training loss: 0.2139965146780014\n",
      "(Iteration 4500) Training loss: 0.6303199529647827\n",
      "(Iteration 4600) Training loss: 0.25595763325691223\n",
      "(Iteration 4700) Training loss: 0.08566377311944962\n",
      "(Iteration 4800) Training loss: 1.2329474687576294\n",
      "(Iteration 4900) Training loss: 0.8250972628593445\n",
      "(Iteration 5000) Training loss: 0.24436575174331665\n"
     ]
    },
    {
     "name": "stderr",
     "output_type": "stream",
     "text": [
      "07/18/2024 12:19:39 - INFO - finbert.utils -   *** Example ***\n",
      "07/18/2024 12:19:39 - INFO - finbert.utils -   guid: 0\n",
      "07/18/2024 12:19:39 - INFO - finbert.utils -   tokens: [CLS] rt ##p received money ##lion ins ##ta ##cas ##h 48 ##8 [SEP]\n",
      "07/18/2024 12:19:39 - INFO - finbert.utils -   input_ids: 101 19387 2361 2363 2769 18964 16021 2696 15671 2232 4466 2620 102 0 0 0 0 0 0 0 0 0 0 0 0 0 0 0 0 0 0 0 0 0 0 0 0 0 0 0 0 0 0 0 0 0 0 0\n",
      "07/18/2024 12:19:39 - INFO - finbert.utils -   attention_mask: 1 1 1 1 1 1 1 1 1 1 1 1 1 0 0 0 0 0 0 0 0 0 0 0 0 0 0 0 0 0 0 0 0 0 0 0 0 0 0 0 0 0 0 0 0 0 0 0\n",
      "07/18/2024 12:19:39 - INFO - finbert.utils -   token_type_ids: 0 0 0 0 0 0 0 0 0 0 0 0 0 0 0 0 0 0 0 0 0 0 0 0 0 0 0 0 0 0 0 0 0 0 0 0 0 0 0 0 0 0 0 0 0 0 0 0\n",
      "07/18/2024 12:19:39 - INFO - finbert.utils -   label: Loans (id = 0)\n",
      "07/18/2024 12:19:44 - INFO - finbert.finbert -   ***** Loading data *****\n",
      "07/18/2024 12:19:44 - INFO - finbert.finbert -     Num examples = 68739\n",
      "07/18/2024 12:19:44 - INFO - finbert.finbert -     Batch size = 32\n",
      "07/18/2024 12:19:44 - INFO - finbert.finbert -     Num steps = 21480\n"
     ]
    },
    {
     "data": {
      "application/vnd.jupyter.widget-view+json": {
       "model_id": "16ab4c3ef9ed474187810ff601b684d7",
       "version_major": 2,
       "version_minor": 0
      },
      "text/plain": [
       "Validating:   0%|          | 0/2149 [00:00<?, ?it/s]"
      ]
     },
     "metadata": {},
     "output_type": "display_data"
    },
    {
     "name": "stdout",
     "output_type": "stream",
     "text": [
      "Validation losses: [1.0823279039673386, 0.567875035701726, 0.4626183950135518]\n",
      "Validation Accuracy: 0.8664\n"
     ]
    },
    {
     "name": "stderr",
     "output_type": "stream",
     "text": [
      "Epoch:  30%|███       | 3/10 [1:07:59<2:38:48, 1361.24s/it]"
     ]
    },
    {
     "data": {
      "application/vnd.jupyter.widget-view+json": {
       "model_id": "f3050a56b572461089024672d223ee84",
       "version_major": 2,
       "version_minor": 0
      },
      "text/plain": [
       "Iteration:   0%|          | 0/5013 [00:00<?, ?it/s]"
      ]
     },
     "metadata": {},
     "output_type": "display_data"
    },
    {
     "name": "stdout",
     "output_type": "stream",
     "text": [
      "(Iteration 0) Training loss: 0.5738397836685181\n",
      "(Iteration 100) Training loss: 0.06752213835716248\n",
      "(Iteration 200) Training loss: 0.07930409908294678\n",
      "(Iteration 300) Training loss: 0.7711036205291748\n",
      "(Iteration 400) Training loss: 3.281656503677368\n",
      "(Iteration 500) Training loss: 4.675759792327881\n",
      "(Iteration 600) Training loss: 0.1938289999961853\n",
      "(Iteration 700) Training loss: 0.11264997720718384\n",
      "(Iteration 800) Training loss: 0.5182145833969116\n",
      "(Iteration 900) Training loss: 2.6670570373535156\n",
      "(Iteration 1000) Training loss: 0.25726187229156494\n",
      "(Iteration 1100) Training loss: 0.42612868547439575\n",
      "(Iteration 1200) Training loss: 0.32882168889045715\n",
      "(Iteration 1300) Training loss: 0.5022168755531311\n",
      "(Iteration 1400) Training loss: 1.4693524837493896\n",
      "(Iteration 1500) Training loss: 1.4580790996551514\n",
      "(Iteration 1600) Training loss: 0.2898847162723541\n",
      "(Iteration 1700) Training loss: 0.21638233959674835\n",
      "(Iteration 1800) Training loss: 0.08048170059919357\n",
      "(Iteration 1900) Training loss: 0.21924130618572235\n",
      "(Iteration 2000) Training loss: 0.42976275086402893\n",
      "(Iteration 2100) Training loss: 0.20037789642810822\n",
      "(Iteration 2200) Training loss: 0.5319780707359314\n",
      "(Iteration 2300) Training loss: 2.122729539871216\n",
      "(Iteration 2400) Training loss: 0.6579777002334595\n",
      "(Iteration 2500) Training loss: 0.22393710911273956\n",
      "(Iteration 2600) Training loss: 0.0387921966612339\n",
      "(Iteration 2700) Training loss: 0.31735315918922424\n",
      "(Iteration 2800) Training loss: 0.0436241552233696\n",
      "(Iteration 2900) Training loss: 0.16359245777130127\n",
      "(Iteration 3000) Training loss: 0.1892874538898468\n",
      "(Iteration 3100) Training loss: 0.2554839849472046\n",
      "(Iteration 3200) Training loss: 0.34508946537971497\n",
      "(Iteration 3300) Training loss: 0.23988857865333557\n",
      "(Iteration 3400) Training loss: 0.2778443992137909\n",
      "(Iteration 3500) Training loss: 0.07230798900127411\n",
      "(Iteration 3600) Training loss: 0.43134576082229614\n",
      "(Iteration 3700) Training loss: 0.0666952058672905\n",
      "(Iteration 3800) Training loss: 0.2573145627975464\n",
      "(Iteration 3900) Training loss: 0.08106383681297302\n",
      "(Iteration 4000) Training loss: 0.18551847338676453\n",
      "(Iteration 4100) Training loss: 0.6882482171058655\n",
      "(Iteration 4200) Training loss: 0.4238691031932831\n",
      "(Iteration 4300) Training loss: 0.26534032821655273\n",
      "(Iteration 4400) Training loss: 0.4849688410758972\n",
      "(Iteration 4500) Training loss: 0.19468553364276886\n",
      "(Iteration 4600) Training loss: 0.37350785732269287\n",
      "(Iteration 4700) Training loss: 0.04091795161366463\n",
      "(Iteration 4800) Training loss: 0.14650799334049225\n",
      "(Iteration 4900) Training loss: 1.6907602548599243\n",
      "(Iteration 5000) Training loss: 0.122515968978405\n"
     ]
    },
    {
     "name": "stderr",
     "output_type": "stream",
     "text": [
      "07/18/2024 12:42:24 - INFO - finbert.utils -   *** Example ***\n",
      "07/18/2024 12:42:24 - INFO - finbert.utils -   guid: 0\n",
      "07/18/2024 12:42:24 - INFO - finbert.utils -   tokens: [CLS] rt ##p received money ##lion ins ##ta ##cas ##h 48 ##8 [SEP]\n",
      "07/18/2024 12:42:24 - INFO - finbert.utils -   input_ids: 101 19387 2361 2363 2769 18964 16021 2696 15671 2232 4466 2620 102 0 0 0 0 0 0 0 0 0 0 0 0 0 0 0 0 0 0 0 0 0 0 0 0 0 0 0 0 0 0 0 0 0 0 0\n",
      "07/18/2024 12:42:24 - INFO - finbert.utils -   attention_mask: 1 1 1 1 1 1 1 1 1 1 1 1 1 0 0 0 0 0 0 0 0 0 0 0 0 0 0 0 0 0 0 0 0 0 0 0 0 0 0 0 0 0 0 0 0 0 0 0\n",
      "07/18/2024 12:42:24 - INFO - finbert.utils -   token_type_ids: 0 0 0 0 0 0 0 0 0 0 0 0 0 0 0 0 0 0 0 0 0 0 0 0 0 0 0 0 0 0 0 0 0 0 0 0 0 0 0 0 0 0 0 0 0 0 0 0\n",
      "07/18/2024 12:42:24 - INFO - finbert.utils -   label: Loans (id = 0)\n",
      "07/18/2024 12:42:29 - INFO - finbert.finbert -   ***** Loading data *****\n",
      "07/18/2024 12:42:29 - INFO - finbert.finbert -     Num examples = 68739\n",
      "07/18/2024 12:42:29 - INFO - finbert.finbert -     Batch size = 32\n",
      "07/18/2024 12:42:29 - INFO - finbert.finbert -     Num steps = 21480\n"
     ]
    },
    {
     "data": {
      "application/vnd.jupyter.widget-view+json": {
       "model_id": "52c9b05ef4564d1493e48c1198cd2844",
       "version_major": 2,
       "version_minor": 0
      },
      "text/plain": [
       "Validating:   0%|          | 0/2149 [00:00<?, ?it/s]"
      ]
     },
     "metadata": {},
     "output_type": "display_data"
    },
    {
     "name": "stdout",
     "output_type": "stream",
     "text": [
      "Validation losses: [1.0823279039673386, 0.567875035701726, 0.4626183950135518, 0.4138067854482121]\n",
      "Validation Accuracy: 0.8910\n"
     ]
    },
    {
     "name": "stderr",
     "output_type": "stream",
     "text": [
      "Epoch:  40%|████      | 4/10 [1:30:44<2:16:16, 1362.79s/it]"
     ]
    },
    {
     "data": {
      "application/vnd.jupyter.widget-view+json": {
       "model_id": "52644cbc5fab437f94191f788f23d7c4",
       "version_major": 2,
       "version_minor": 0
      },
      "text/plain": [
       "Iteration:   0%|          | 0/5013 [00:00<?, ?it/s]"
      ]
     },
     "metadata": {},
     "output_type": "display_data"
    },
    {
     "name": "stdout",
     "output_type": "stream",
     "text": [
      "(Iteration 0) Training loss: 0.09224998205900192\n",
      "(Iteration 100) Training loss: 0.7063512802124023\n",
      "(Iteration 200) Training loss: 0.032641906291246414\n",
      "(Iteration 300) Training loss: 0.3112999498844147\n",
      "(Iteration 400) Training loss: 0.16028927266597748\n",
      "(Iteration 500) Training loss: 0.26303568482398987\n",
      "(Iteration 600) Training loss: 0.15707746148109436\n",
      "(Iteration 700) Training loss: 0.15405327081680298\n",
      "(Iteration 800) Training loss: 0.22371719777584076\n",
      "(Iteration 900) Training loss: 0.08385369926691055\n",
      "(Iteration 1000) Training loss: 0.22437544167041779\n",
      "(Iteration 1100) Training loss: 0.14794720709323883\n",
      "(Iteration 1200) Training loss: 0.262125164270401\n",
      "(Iteration 1300) Training loss: 0.09381537139415741\n",
      "(Iteration 1400) Training loss: 0.2401309758424759\n",
      "(Iteration 1500) Training loss: 0.2160736322402954\n",
      "(Iteration 1600) Training loss: 0.12703266739845276\n",
      "(Iteration 1700) Training loss: 0.17918261885643005\n",
      "(Iteration 1800) Training loss: 0.11988580971956253\n",
      "(Iteration 1900) Training loss: 0.4674682319164276\n",
      "(Iteration 2000) Training loss: 0.4634139835834503\n",
      "(Iteration 2100) Training loss: 0.4484685957431793\n",
      "(Iteration 2200) Training loss: 0.09455345571041107\n",
      "(Iteration 2300) Training loss: 0.381011426448822\n",
      "(Iteration 2400) Training loss: 1.5092717409133911\n",
      "(Iteration 2500) Training loss: 0.0966884046792984\n",
      "(Iteration 2600) Training loss: 0.2150752991437912\n",
      "(Iteration 2700) Training loss: 0.08916311711072922\n",
      "(Iteration 2800) Training loss: 0.09747671335935593\n",
      "(Iteration 2900) Training loss: 1.461877465248108\n",
      "(Iteration 3000) Training loss: 0.6650476455688477\n",
      "(Iteration 3100) Training loss: 0.44499415159225464\n",
      "(Iteration 3200) Training loss: 0.17939141392707825\n",
      "(Iteration 3300) Training loss: 0.11613164842128754\n",
      "(Iteration 3400) Training loss: 1.443678617477417\n",
      "(Iteration 3500) Training loss: 0.09946434944868088\n",
      "(Iteration 3600) Training loss: 0.18875962495803833\n",
      "(Iteration 3700) Training loss: 0.43839582800865173\n",
      "(Iteration 3800) Training loss: 0.16730518639087677\n",
      "(Iteration 3900) Training loss: 0.09505525976419449\n",
      "(Iteration 4000) Training loss: 0.39476677775382996\n",
      "(Iteration 4100) Training loss: 0.06687105447053909\n",
      "(Iteration 4200) Training loss: 1.1205817461013794\n",
      "(Iteration 4300) Training loss: 0.5732431411743164\n",
      "(Iteration 4400) Training loss: 0.036523062735795975\n",
      "(Iteration 4500) Training loss: 0.07295949012041092\n",
      "(Iteration 4600) Training loss: 0.3065776228904724\n",
      "(Iteration 4700) Training loss: 0.4639057517051697\n",
      "(Iteration 4800) Training loss: 0.05908844247460365\n",
      "(Iteration 4900) Training loss: 0.0394735112786293\n",
      "(Iteration 5000) Training loss: 0.4295857548713684\n"
     ]
    },
    {
     "name": "stderr",
     "output_type": "stream",
     "text": [
      "07/18/2024 13:05:11 - INFO - finbert.utils -   *** Example ***\n",
      "07/18/2024 13:05:11 - INFO - finbert.utils -   guid: 0\n",
      "07/18/2024 13:05:11 - INFO - finbert.utils -   tokens: [CLS] rt ##p received money ##lion ins ##ta ##cas ##h 48 ##8 [SEP]\n",
      "07/18/2024 13:05:11 - INFO - finbert.utils -   input_ids: 101 19387 2361 2363 2769 18964 16021 2696 15671 2232 4466 2620 102 0 0 0 0 0 0 0 0 0 0 0 0 0 0 0 0 0 0 0 0 0 0 0 0 0 0 0 0 0 0 0 0 0 0 0\n",
      "07/18/2024 13:05:11 - INFO - finbert.utils -   attention_mask: 1 1 1 1 1 1 1 1 1 1 1 1 1 0 0 0 0 0 0 0 0 0 0 0 0 0 0 0 0 0 0 0 0 0 0 0 0 0 0 0 0 0 0 0 0 0 0 0\n",
      "07/18/2024 13:05:11 - INFO - finbert.utils -   token_type_ids: 0 0 0 0 0 0 0 0 0 0 0 0 0 0 0 0 0 0 0 0 0 0 0 0 0 0 0 0 0 0 0 0 0 0 0 0 0 0 0 0 0 0 0 0 0 0 0 0\n",
      "07/18/2024 13:05:11 - INFO - finbert.utils -   label: Loans (id = 0)\n",
      "07/18/2024 13:05:16 - INFO - finbert.finbert -   ***** Loading data *****\n",
      "07/18/2024 13:05:16 - INFO - finbert.finbert -     Num examples = 68739\n",
      "07/18/2024 13:05:16 - INFO - finbert.finbert -     Batch size = 32\n",
      "07/18/2024 13:05:16 - INFO - finbert.finbert -     Num steps = 21480\n"
     ]
    },
    {
     "data": {
      "application/vnd.jupyter.widget-view+json": {
       "model_id": "f0ee6b3e16d948bc94c0acf9980e1ef7",
       "version_major": 2,
       "version_minor": 0
      },
      "text/plain": [
       "Validating:   0%|          | 0/2149 [00:00<?, ?it/s]"
      ]
     },
     "metadata": {},
     "output_type": "display_data"
    },
    {
     "name": "stdout",
     "output_type": "stream",
     "text": [
      "Validation losses: [1.0823279039673386, 0.567875035701726, 0.4626183950135518, 0.4138067854482121, 0.4124975941745671]\n",
      "Validation Accuracy: 0.8918\n"
     ]
    },
    {
     "name": "stderr",
     "output_type": "stream",
     "text": [
      "Epoch:  50%|█████     | 5/10 [1:53:31<1:53:40, 1364.17s/it]"
     ]
    },
    {
     "data": {
      "application/vnd.jupyter.widget-view+json": {
       "model_id": "5d5c89a132a84b308456e900d2326e5e",
       "version_major": 2,
       "version_minor": 0
      },
      "text/plain": [
       "Iteration:   0%|          | 0/5013 [00:00<?, ?it/s]"
      ]
     },
     "metadata": {},
     "output_type": "display_data"
    },
    {
     "name": "stdout",
     "output_type": "stream",
     "text": [
      "(Iteration 0) Training loss: 0.05280433967709541\n",
      "(Iteration 100) Training loss: 0.12844420969486237\n",
      "(Iteration 200) Training loss: 0.3765615224838257\n",
      "(Iteration 300) Training loss: 0.34861233830451965\n",
      "(Iteration 400) Training loss: 0.032593365758657455\n",
      "(Iteration 500) Training loss: 0.4293704330921173\n",
      "(Iteration 600) Training loss: 0.01824577897787094\n",
      "(Iteration 700) Training loss: 0.39228323101997375\n",
      "(Iteration 800) Training loss: 0.15259604156017303\n",
      "(Iteration 900) Training loss: 0.21731583774089813\n",
      "(Iteration 1000) Training loss: 0.1337394416332245\n",
      "(Iteration 1100) Training loss: 0.10545472055673599\n",
      "(Iteration 1200) Training loss: 0.038970284163951874\n",
      "(Iteration 1300) Training loss: 0.1684545874595642\n",
      "(Iteration 1400) Training loss: 0.1392226666212082\n",
      "(Iteration 1500) Training loss: 0.10277414321899414\n",
      "(Iteration 1600) Training loss: 0.28994399309158325\n",
      "(Iteration 1700) Training loss: 0.1833617389202118\n",
      "(Iteration 1800) Training loss: 0.14214558899402618\n",
      "(Iteration 1900) Training loss: 0.03350384533405304\n",
      "(Iteration 2000) Training loss: 0.6564447283744812\n",
      "(Iteration 2100) Training loss: 0.10753671824932098\n",
      "(Iteration 2200) Training loss: 0.27935153245925903\n",
      "(Iteration 2300) Training loss: 0.14259789884090424\n",
      "(Iteration 2400) Training loss: 0.23108816146850586\n",
      "(Iteration 2500) Training loss: 0.11390785127878189\n",
      "(Iteration 2600) Training loss: 0.13753271102905273\n",
      "(Iteration 2700) Training loss: 0.25578463077545166\n",
      "(Iteration 2800) Training loss: 0.22298741340637207\n",
      "(Iteration 2900) Training loss: 0.22133997082710266\n",
      "(Iteration 3000) Training loss: 0.060352623462677\n",
      "(Iteration 3100) Training loss: 0.1409984827041626\n",
      "(Iteration 3200) Training loss: 0.12481720745563507\n",
      "(Iteration 3300) Training loss: 0.34381434321403503\n",
      "(Iteration 3400) Training loss: 0.12072496116161346\n",
      "(Iteration 3500) Training loss: 0.5220587849617004\n",
      "(Iteration 3600) Training loss: 0.1486247181892395\n",
      "(Iteration 3700) Training loss: 0.23301388323307037\n",
      "(Iteration 3800) Training loss: 0.2633351683616638\n",
      "(Iteration 3900) Training loss: 0.12864044308662415\n",
      "(Iteration 4000) Training loss: 1.5939528942108154\n",
      "(Iteration 4100) Training loss: 0.19113701581954956\n",
      "(Iteration 4200) Training loss: 0.09875081479549408\n",
      "(Iteration 4300) Training loss: 0.36152687668800354\n",
      "(Iteration 4400) Training loss: 0.407700777053833\n",
      "(Iteration 4500) Training loss: 0.09957891702651978\n",
      "(Iteration 4600) Training loss: 0.06354747712612152\n",
      "(Iteration 4700) Training loss: 0.08616560697555542\n",
      "(Iteration 4800) Training loss: 0.13115234673023224\n",
      "(Iteration 4900) Training loss: 0.13438160717487335\n",
      "(Iteration 5000) Training loss: 0.12196386605501175\n"
     ]
    },
    {
     "name": "stderr",
     "output_type": "stream",
     "text": [
      "07/18/2024 13:27:46 - INFO - finbert.utils -   *** Example ***\n",
      "07/18/2024 13:27:46 - INFO - finbert.utils -   guid: 0\n",
      "07/18/2024 13:27:46 - INFO - finbert.utils -   tokens: [CLS] rt ##p received money ##lion ins ##ta ##cas ##h 48 ##8 [SEP]\n",
      "07/18/2024 13:27:46 - INFO - finbert.utils -   input_ids: 101 19387 2361 2363 2769 18964 16021 2696 15671 2232 4466 2620 102 0 0 0 0 0 0 0 0 0 0 0 0 0 0 0 0 0 0 0 0 0 0 0 0 0 0 0 0 0 0 0 0 0 0 0\n",
      "07/18/2024 13:27:46 - INFO - finbert.utils -   attention_mask: 1 1 1 1 1 1 1 1 1 1 1 1 1 0 0 0 0 0 0 0 0 0 0 0 0 0 0 0 0 0 0 0 0 0 0 0 0 0 0 0 0 0 0 0 0 0 0 0\n",
      "07/18/2024 13:27:46 - INFO - finbert.utils -   token_type_ids: 0 0 0 0 0 0 0 0 0 0 0 0 0 0 0 0 0 0 0 0 0 0 0 0 0 0 0 0 0 0 0 0 0 0 0 0 0 0 0 0 0 0 0 0 0 0 0 0\n",
      "07/18/2024 13:27:46 - INFO - finbert.utils -   label: Loans (id = 0)\n",
      "07/18/2024 13:27:52 - INFO - finbert.finbert -   ***** Loading data *****\n",
      "07/18/2024 13:27:52 - INFO - finbert.finbert -     Num examples = 68739\n",
      "07/18/2024 13:27:52 - INFO - finbert.finbert -     Batch size = 32\n",
      "07/18/2024 13:27:52 - INFO - finbert.finbert -     Num steps = 21480\n"
     ]
    },
    {
     "data": {
      "application/vnd.jupyter.widget-view+json": {
       "model_id": "c1b71df3e4d243a8aef52d71ddef543e",
       "version_major": 2,
       "version_minor": 0
      },
      "text/plain": [
       "Validating:   0%|          | 0/2149 [00:00<?, ?it/s]"
      ]
     },
     "metadata": {},
     "output_type": "display_data"
    },
    {
     "name": "stdout",
     "output_type": "stream",
     "text": [
      "Validation losses: [1.0823279039673386, 0.567875035701726, 0.4626183950135518, 0.4138067854482121, 0.4124975941745671, 0.4031076118135075]\n",
      "Validation Accuracy: 0.8988\n"
     ]
    },
    {
     "name": "stderr",
     "output_type": "stream",
     "text": [
      "Epoch:  60%|██████    | 6/10 [2:16:06<1:30:44, 1361.13s/it]"
     ]
    },
    {
     "data": {
      "application/vnd.jupyter.widget-view+json": {
       "model_id": "6cc56a8d83714d6a9689eac109c79645",
       "version_major": 2,
       "version_minor": 0
      },
      "text/plain": [
       "Iteration:   0%|          | 0/5013 [00:00<?, ?it/s]"
      ]
     },
     "metadata": {},
     "output_type": "display_data"
    },
    {
     "name": "stdout",
     "output_type": "stream",
     "text": [
      "(Iteration 0) Training loss: 0.09898189455270767\n",
      "(Iteration 100) Training loss: 0.8797031044960022\n",
      "(Iteration 200) Training loss: 0.16311749815940857\n",
      "(Iteration 300) Training loss: 0.030643673613667488\n",
      "(Iteration 400) Training loss: 0.19094903767108917\n",
      "(Iteration 500) Training loss: 0.2843332290649414\n",
      "(Iteration 600) Training loss: 0.1117299273610115\n",
      "(Iteration 700) Training loss: 0.18261203169822693\n",
      "(Iteration 800) Training loss: 0.31628724932670593\n",
      "(Iteration 900) Training loss: 0.058895424008369446\n",
      "(Iteration 1000) Training loss: 0.11591161787509918\n",
      "(Iteration 1100) Training loss: 0.12803539633750916\n",
      "(Iteration 1200) Training loss: 0.1463954746723175\n",
      "(Iteration 1300) Training loss: 0.10859749466180801\n",
      "(Iteration 1400) Training loss: 0.2575448155403137\n",
      "(Iteration 1500) Training loss: 0.11162347346544266\n",
      "(Iteration 1600) Training loss: 0.22803185880184174\n",
      "(Iteration 1700) Training loss: 0.8600932955741882\n",
      "(Iteration 1800) Training loss: 0.23977893590927124\n",
      "(Iteration 1900) Training loss: 0.4906255602836609\n",
      "(Iteration 2000) Training loss: 0.6423608660697937\n",
      "(Iteration 2100) Training loss: 0.04529101401567459\n",
      "(Iteration 2200) Training loss: 0.3059142231941223\n",
      "(Iteration 2300) Training loss: 0.16462619602680206\n",
      "(Iteration 2400) Training loss: 0.11982019245624542\n",
      "(Iteration 2500) Training loss: 0.06474027037620544\n",
      "(Iteration 2600) Training loss: 0.1801193505525589\n",
      "(Iteration 2700) Training loss: 1.1187456846237183\n",
      "(Iteration 2800) Training loss: 0.2278648465871811\n",
      "(Iteration 2900) Training loss: 0.05009981244802475\n",
      "(Iteration 3000) Training loss: 0.12905341386795044\n",
      "(Iteration 3100) Training loss: 0.1300586611032486\n",
      "(Iteration 3200) Training loss: 0.050654903054237366\n",
      "(Iteration 3300) Training loss: 0.09243147075176239\n",
      "(Iteration 3400) Training loss: 0.16362816095352173\n",
      "(Iteration 3500) Training loss: 0.13869668543338776\n",
      "(Iteration 3600) Training loss: 0.146593376994133\n",
      "(Iteration 3700) Training loss: 0.15560707449913025\n",
      "(Iteration 3800) Training loss: 0.24254481494426727\n",
      "(Iteration 3900) Training loss: 0.21459385752677917\n",
      "(Iteration 4000) Training loss: 0.15887433290481567\n",
      "(Iteration 4100) Training loss: 0.09807803481817245\n",
      "(Iteration 4200) Training loss: 0.1211354210972786\n",
      "(Iteration 4300) Training loss: 0.0760650709271431\n",
      "(Iteration 4400) Training loss: 0.1398770958185196\n",
      "(Iteration 4500) Training loss: 0.9582831263542175\n",
      "(Iteration 4600) Training loss: 0.08695046603679657\n",
      "(Iteration 4700) Training loss: 0.1781032681465149\n",
      "(Iteration 4800) Training loss: 0.18321801722049713\n",
      "(Iteration 4900) Training loss: 0.06533367186784744\n",
      "(Iteration 5000) Training loss: 0.1931513249874115\n"
     ]
    },
    {
     "name": "stderr",
     "output_type": "stream",
     "text": [
      "07/18/2024 13:50:28 - INFO - finbert.utils -   *** Example ***\n",
      "07/18/2024 13:50:28 - INFO - finbert.utils -   guid: 0\n",
      "07/18/2024 13:50:28 - INFO - finbert.utils -   tokens: [CLS] rt ##p received money ##lion ins ##ta ##cas ##h 48 ##8 [SEP]\n",
      "07/18/2024 13:50:28 - INFO - finbert.utils -   input_ids: 101 19387 2361 2363 2769 18964 16021 2696 15671 2232 4466 2620 102 0 0 0 0 0 0 0 0 0 0 0 0 0 0 0 0 0 0 0 0 0 0 0 0 0 0 0 0 0 0 0 0 0 0 0\n",
      "07/18/2024 13:50:28 - INFO - finbert.utils -   attention_mask: 1 1 1 1 1 1 1 1 1 1 1 1 1 0 0 0 0 0 0 0 0 0 0 0 0 0 0 0 0 0 0 0 0 0 0 0 0 0 0 0 0 0 0 0 0 0 0 0\n",
      "07/18/2024 13:50:28 - INFO - finbert.utils -   token_type_ids: 0 0 0 0 0 0 0 0 0 0 0 0 0 0 0 0 0 0 0 0 0 0 0 0 0 0 0 0 0 0 0 0 0 0 0 0 0 0 0 0 0 0 0 0 0 0 0 0\n",
      "07/18/2024 13:50:28 - INFO - finbert.utils -   label: Loans (id = 0)\n",
      "07/18/2024 13:50:33 - INFO - finbert.finbert -   ***** Loading data *****\n",
      "07/18/2024 13:50:33 - INFO - finbert.finbert -     Num examples = 68739\n",
      "07/18/2024 13:50:33 - INFO - finbert.finbert -     Batch size = 32\n",
      "07/18/2024 13:50:33 - INFO - finbert.finbert -     Num steps = 21480\n"
     ]
    },
    {
     "data": {
      "application/vnd.jupyter.widget-view+json": {
       "model_id": "5a28e949a70649e2a8e675158b55f09b",
       "version_major": 2,
       "version_minor": 0
      },
      "text/plain": [
       "Validating:   0%|          | 0/2149 [00:00<?, ?it/s]"
      ]
     },
     "metadata": {},
     "output_type": "display_data"
    },
    {
     "name": "stdout",
     "output_type": "stream",
     "text": [
      "Validation losses: [1.0823279039673386, 0.567875035701726, 0.4626183950135518, 0.4138067854482121, 0.4124975941745671, 0.4031076118135075, 0.38278619712868706]\n",
      "Validation Accuracy: 0.8998\n"
     ]
    },
    {
     "name": "stderr",
     "output_type": "stream",
     "text": [
      "Epoch:  70%|███████   | 7/10 [2:38:48<1:08:03, 1361.30s/it]"
     ]
    },
    {
     "data": {
      "application/vnd.jupyter.widget-view+json": {
       "model_id": "7b2ce519c05e4fdfa6b16a9ec87cf907",
       "version_major": 2,
       "version_minor": 0
      },
      "text/plain": [
       "Iteration:   0%|          | 0/5013 [00:00<?, ?it/s]"
      ]
     },
     "metadata": {},
     "output_type": "display_data"
    },
    {
     "name": "stdout",
     "output_type": "stream",
     "text": [
      "(Iteration 0) Training loss: 0.13895215094089508\n",
      "(Iteration 100) Training loss: 0.7056775093078613\n",
      "(Iteration 200) Training loss: 0.229900524020195\n",
      "(Iteration 300) Training loss: 0.08551844954490662\n",
      "(Iteration 400) Training loss: 0.12910449504852295\n",
      "(Iteration 500) Training loss: 0.15690405666828156\n",
      "(Iteration 600) Training loss: 0.11753295361995697\n",
      "(Iteration 700) Training loss: 0.07901570945978165\n",
      "(Iteration 800) Training loss: 0.1002514436841011\n",
      "(Iteration 900) Training loss: 0.05607883632183075\n",
      "(Iteration 1000) Training loss: 0.036232903599739075\n",
      "(Iteration 1100) Training loss: 0.08021773397922516\n",
      "(Iteration 1200) Training loss: 0.11892934143543243\n",
      "(Iteration 1300) Training loss: 0.6666170358657837\n",
      "(Iteration 1400) Training loss: 0.07998702675104141\n",
      "(Iteration 1500) Training loss: 0.13526561856269836\n",
      "(Iteration 1600) Training loss: 0.13257406651973724\n",
      "(Iteration 1700) Training loss: 0.06046886742115021\n",
      "(Iteration 1800) Training loss: 0.3117300868034363\n",
      "(Iteration 1900) Training loss: 0.1091366708278656\n",
      "(Iteration 2000) Training loss: 0.1043364405632019\n",
      "(Iteration 2100) Training loss: 0.06490222364664078\n",
      "(Iteration 2200) Training loss: 0.20222139358520508\n",
      "(Iteration 2300) Training loss: 0.08790256828069687\n",
      "(Iteration 2400) Training loss: 0.21347635984420776\n",
      "(Iteration 2500) Training loss: 0.03013702668249607\n",
      "(Iteration 2600) Training loss: 0.6167036890983582\n",
      "(Iteration 2700) Training loss: 0.10578364878892899\n",
      "(Iteration 2800) Training loss: 0.047947365790605545\n",
      "(Iteration 2900) Training loss: 0.5724477171897888\n",
      "(Iteration 3000) Training loss: 0.22693461179733276\n",
      "(Iteration 3100) Training loss: 0.058432336896657944\n",
      "(Iteration 3200) Training loss: 0.3646075427532196\n",
      "(Iteration 3300) Training loss: 0.039859406650066376\n",
      "(Iteration 3400) Training loss: 0.034265466034412384\n",
      "(Iteration 3500) Training loss: 0.045243553817272186\n",
      "(Iteration 3600) Training loss: 0.3211517930030823\n",
      "(Iteration 3700) Training loss: 0.25194865465164185\n",
      "(Iteration 3800) Training loss: 0.10630100220441818\n",
      "(Iteration 3900) Training loss: 0.034589800983667374\n",
      "(Iteration 4000) Training loss: 0.5440007448196411\n",
      "(Iteration 4100) Training loss: 0.13723066449165344\n",
      "(Iteration 4200) Training loss: 0.20019181072711945\n",
      "(Iteration 4300) Training loss: 0.05200018733739853\n",
      "(Iteration 4400) Training loss: 0.11683312058448792\n",
      "(Iteration 4500) Training loss: 3.5911142826080322\n",
      "(Iteration 4600) Training loss: 0.31366631388664246\n",
      "(Iteration 4700) Training loss: 1.5466936826705933\n",
      "(Iteration 4800) Training loss: 0.19486281275749207\n",
      "(Iteration 4900) Training loss: 0.03017040714621544\n",
      "(Iteration 5000) Training loss: 0.11435240507125854\n"
     ]
    },
    {
     "name": "stderr",
     "output_type": "stream",
     "text": [
      "07/18/2024 14:13:12 - INFO - finbert.utils -   *** Example ***\n",
      "07/18/2024 14:13:12 - INFO - finbert.utils -   guid: 0\n",
      "07/18/2024 14:13:12 - INFO - finbert.utils -   tokens: [CLS] rt ##p received money ##lion ins ##ta ##cas ##h 48 ##8 [SEP]\n",
      "07/18/2024 14:13:12 - INFO - finbert.utils -   input_ids: 101 19387 2361 2363 2769 18964 16021 2696 15671 2232 4466 2620 102 0 0 0 0 0 0 0 0 0 0 0 0 0 0 0 0 0 0 0 0 0 0 0 0 0 0 0 0 0 0 0 0 0 0 0\n",
      "07/18/2024 14:13:12 - INFO - finbert.utils -   attention_mask: 1 1 1 1 1 1 1 1 1 1 1 1 1 0 0 0 0 0 0 0 0 0 0 0 0 0 0 0 0 0 0 0 0 0 0 0 0 0 0 0 0 0 0 0 0 0 0 0\n",
      "07/18/2024 14:13:12 - INFO - finbert.utils -   token_type_ids: 0 0 0 0 0 0 0 0 0 0 0 0 0 0 0 0 0 0 0 0 0 0 0 0 0 0 0 0 0 0 0 0 0 0 0 0 0 0 0 0 0 0 0 0 0 0 0 0\n",
      "07/18/2024 14:13:12 - INFO - finbert.utils -   label: Loans (id = 0)\n",
      "07/18/2024 14:13:17 - INFO - finbert.finbert -   ***** Loading data *****\n",
      "07/18/2024 14:13:17 - INFO - finbert.finbert -     Num examples = 68739\n",
      "07/18/2024 14:13:17 - INFO - finbert.finbert -     Batch size = 32\n",
      "07/18/2024 14:13:17 - INFO - finbert.finbert -     Num steps = 21480\n"
     ]
    },
    {
     "data": {
      "application/vnd.jupyter.widget-view+json": {
       "model_id": "acc5bcf096aa4144af9a8403fc139f5e",
       "version_major": 2,
       "version_minor": 0
      },
      "text/plain": [
       "Validating:   0%|          | 0/2149 [00:00<?, ?it/s]"
      ]
     },
     "metadata": {},
     "output_type": "display_data"
    },
    {
     "name": "stdout",
     "output_type": "stream",
     "text": [
      "Validation losses: [1.0823279039673386, 0.567875035701726, 0.4626183950135518, 0.4138067854482121, 0.4124975941745671, 0.4031076118135075, 0.38278619712868706, 0.3806190205803063]\n",
      "Validation Accuracy: 0.8996\n"
     ]
    },
    {
     "name": "stderr",
     "output_type": "stream",
     "text": [
      "Epoch:  80%|████████  | 8/10 [3:01:31<45:24, 1362.05s/it]  "
     ]
    },
    {
     "data": {
      "application/vnd.jupyter.widget-view+json": {
       "model_id": "6be2870bfa6b4dfe81667ffd41ab7d89",
       "version_major": 2,
       "version_minor": 0
      },
      "text/plain": [
       "Iteration:   0%|          | 0/5013 [00:00<?, ?it/s]"
      ]
     },
     "metadata": {},
     "output_type": "display_data"
    },
    {
     "name": "stdout",
     "output_type": "stream",
     "text": [
      "(Iteration 0) Training loss: 0.11165734380483627\n",
      "(Iteration 100) Training loss: 0.4312560558319092\n",
      "(Iteration 200) Training loss: 0.16528509557247162\n",
      "(Iteration 300) Training loss: 0.6599239110946655\n",
      "(Iteration 400) Training loss: 0.13351383805274963\n",
      "(Iteration 500) Training loss: 0.0836997702717781\n",
      "(Iteration 600) Training loss: 0.16833074390888214\n",
      "(Iteration 700) Training loss: 0.09944190829992294\n",
      "(Iteration 800) Training loss: 0.17148827016353607\n",
      "(Iteration 900) Training loss: 0.04040578752756119\n",
      "(Iteration 1000) Training loss: 0.25558578968048096\n",
      "(Iteration 1100) Training loss: 3.2754266262054443\n",
      "(Iteration 1200) Training loss: 0.07482770085334778\n",
      "(Iteration 1300) Training loss: 0.409658282995224\n",
      "(Iteration 1400) Training loss: 0.2733098566532135\n",
      "(Iteration 1500) Training loss: 0.028146326541900635\n",
      "(Iteration 1600) Training loss: 0.17828018963336945\n",
      "(Iteration 1700) Training loss: 0.0741192102432251\n",
      "(Iteration 1800) Training loss: 0.1415064036846161\n",
      "(Iteration 1900) Training loss: 0.2330489307641983\n",
      "(Iteration 2000) Training loss: 0.11645451188087463\n",
      "(Iteration 2100) Training loss: 0.4000442624092102\n",
      "(Iteration 2200) Training loss: 0.008663685992360115\n",
      "(Iteration 2300) Training loss: 0.2540411949157715\n",
      "(Iteration 2400) Training loss: 0.24944739043712616\n",
      "(Iteration 2500) Training loss: 0.022535892203450203\n",
      "(Iteration 2600) Training loss: 0.12244252115488052\n",
      "(Iteration 2700) Training loss: 0.11947087943553925\n",
      "(Iteration 2800) Training loss: 0.27619171142578125\n",
      "(Iteration 2900) Training loss: 0.1917610764503479\n",
      "(Iteration 3000) Training loss: 0.1892137974500656\n",
      "(Iteration 3100) Training loss: 0.21198028326034546\n",
      "(Iteration 3200) Training loss: 0.16915029287338257\n",
      "(Iteration 3300) Training loss: 0.31066226959228516\n",
      "(Iteration 3400) Training loss: 0.029958482831716537\n",
      "(Iteration 3500) Training loss: 0.08139905333518982\n",
      "(Iteration 3600) Training loss: 0.14926020801067352\n",
      "(Iteration 3700) Training loss: 0.06946568191051483\n",
      "(Iteration 3800) Training loss: 0.0344010628759861\n",
      "(Iteration 3900) Training loss: 0.10827240347862244\n",
      "(Iteration 4000) Training loss: 0.3418107032775879\n",
      "(Iteration 4100) Training loss: 0.04908456653356552\n",
      "(Iteration 4200) Training loss: 0.11160118132829666\n",
      "(Iteration 4300) Training loss: 0.10464233160018921\n",
      "(Iteration 4400) Training loss: 0.9765186905860901\n",
      "(Iteration 4500) Training loss: 0.07811795920133591\n",
      "(Iteration 4600) Training loss: 0.09467993676662445\n",
      "(Iteration 4700) Training loss: 0.04633471369743347\n",
      "(Iteration 4800) Training loss: 0.19388025999069214\n",
      "(Iteration 4900) Training loss: 0.11302855610847473\n",
      "(Iteration 5000) Training loss: 0.2493298053741455\n"
     ]
    },
    {
     "name": "stderr",
     "output_type": "stream",
     "text": [
      "07/18/2024 14:35:54 - INFO - finbert.utils -   *** Example ***\n",
      "07/18/2024 14:35:54 - INFO - finbert.utils -   guid: 0\n",
      "07/18/2024 14:35:54 - INFO - finbert.utils -   tokens: [CLS] rt ##p received money ##lion ins ##ta ##cas ##h 48 ##8 [SEP]\n",
      "07/18/2024 14:35:54 - INFO - finbert.utils -   input_ids: 101 19387 2361 2363 2769 18964 16021 2696 15671 2232 4466 2620 102 0 0 0 0 0 0 0 0 0 0 0 0 0 0 0 0 0 0 0 0 0 0 0 0 0 0 0 0 0 0 0 0 0 0 0\n",
      "07/18/2024 14:35:54 - INFO - finbert.utils -   attention_mask: 1 1 1 1 1 1 1 1 1 1 1 1 1 0 0 0 0 0 0 0 0 0 0 0 0 0 0 0 0 0 0 0 0 0 0 0 0 0 0 0 0 0 0 0 0 0 0 0\n",
      "07/18/2024 14:35:54 - INFO - finbert.utils -   token_type_ids: 0 0 0 0 0 0 0 0 0 0 0 0 0 0 0 0 0 0 0 0 0 0 0 0 0 0 0 0 0 0 0 0 0 0 0 0 0 0 0 0 0 0 0 0 0 0 0 0\n",
      "07/18/2024 14:35:54 - INFO - finbert.utils -   label: Loans (id = 0)\n",
      "07/18/2024 14:35:59 - INFO - finbert.finbert -   ***** Loading data *****\n",
      "07/18/2024 14:35:59 - INFO - finbert.finbert -     Num examples = 68739\n",
      "07/18/2024 14:35:59 - INFO - finbert.finbert -     Batch size = 32\n",
      "07/18/2024 14:35:59 - INFO - finbert.finbert -     Num steps = 21480\n"
     ]
    },
    {
     "data": {
      "application/vnd.jupyter.widget-view+json": {
       "model_id": "10790868b7554d10a8348c1a7e3663ab",
       "version_major": 2,
       "version_minor": 0
      },
      "text/plain": [
       "Validating:   0%|          | 0/2149 [00:00<?, ?it/s]"
      ]
     },
     "metadata": {},
     "output_type": "display_data"
    },
    {
     "name": "stdout",
     "output_type": "stream",
     "text": [
      "Validation losses: [1.0823279039673386, 0.567875035701726, 0.4626183950135518, 0.4138067854482121, 0.4124975941745671, 0.4031076118135075, 0.38278619712868706, 0.3806190205803063, 0.3842699571994552]\n",
      "Validation Accuracy: 0.9027\n"
     ]
    },
    {
     "name": "stderr",
     "output_type": "stream",
     "text": [
      "Epoch:  90%|█████████ | 9/10 [3:24:14<22:42, 1362.13s/it]"
     ]
    },
    {
     "data": {
      "application/vnd.jupyter.widget-view+json": {
       "model_id": "8b5d37fed05c469fb908d31f22c68fb0",
       "version_major": 2,
       "version_minor": 0
      },
      "text/plain": [
       "Iteration:   0%|          | 0/5013 [00:00<?, ?it/s]"
      ]
     },
     "metadata": {},
     "output_type": "display_data"
    },
    {
     "name": "stdout",
     "output_type": "stream",
     "text": [
      "(Iteration 0) Training loss: 0.06415817141532898\n",
      "(Iteration 100) Training loss: 0.06305783241987228\n",
      "(Iteration 200) Training loss: 0.5804417729377747\n",
      "(Iteration 300) Training loss: 0.20280034840106964\n",
      "(Iteration 400) Training loss: 0.40526047348976135\n",
      "(Iteration 500) Training loss: 0.188215970993042\n",
      "(Iteration 600) Training loss: 0.3974580466747284\n",
      "(Iteration 700) Training loss: 0.10390491038560867\n",
      "(Iteration 800) Training loss: 0.13635551929473877\n",
      "(Iteration 900) Training loss: 0.08073074370622635\n",
      "(Iteration 1000) Training loss: 0.06034556031227112\n",
      "(Iteration 1100) Training loss: 0.07767575234174728\n",
      "(Iteration 1200) Training loss: 0.13206328451633453\n",
      "(Iteration 1300) Training loss: 0.09452766925096512\n",
      "(Iteration 1400) Training loss: 0.06325747072696686\n",
      "(Iteration 1500) Training loss: 0.08373218774795532\n",
      "(Iteration 1600) Training loss: 0.049672681838274\n",
      "(Iteration 1700) Training loss: 0.10852455347776413\n",
      "(Iteration 1800) Training loss: 0.05470076948404312\n",
      "(Iteration 1900) Training loss: 0.8244581818580627\n",
      "(Iteration 2000) Training loss: 0.04355208948254585\n",
      "(Iteration 2100) Training loss: 0.3113442361354828\n",
      "(Iteration 2200) Training loss: 0.18802380561828613\n",
      "(Iteration 2300) Training loss: 0.13095232844352722\n",
      "(Iteration 2400) Training loss: 0.1715049296617508\n",
      "(Iteration 2500) Training loss: 0.14085179567337036\n",
      "(Iteration 2600) Training loss: 0.13083714246749878\n",
      "(Iteration 2700) Training loss: 0.07504821568727493\n",
      "(Iteration 2800) Training loss: 0.1382991373538971\n",
      "(Iteration 2900) Training loss: 0.2603079080581665\n",
      "(Iteration 3000) Training loss: 0.4634457230567932\n",
      "(Iteration 3100) Training loss: 0.02586730755865574\n",
      "(Iteration 3200) Training loss: 0.023453854024410248\n",
      "(Iteration 3300) Training loss: 0.12447520345449448\n",
      "(Iteration 3400) Training loss: 0.03823680058121681\n",
      "(Iteration 3500) Training loss: 0.06911797821521759\n",
      "(Iteration 3600) Training loss: 0.12377768009901047\n",
      "(Iteration 3700) Training loss: 0.06994114816188812\n",
      "(Iteration 3800) Training loss: 0.6418777108192444\n",
      "(Iteration 3900) Training loss: 0.0707031637430191\n",
      "(Iteration 4000) Training loss: 0.056392181664705276\n",
      "(Iteration 4100) Training loss: 0.12459918111562729\n",
      "(Iteration 4200) Training loss: 0.1077706441283226\n",
      "(Iteration 4300) Training loss: 0.16025382280349731\n",
      "(Iteration 4400) Training loss: 0.12171865999698639\n",
      "(Iteration 4500) Training loss: 0.7472921013832092\n",
      "(Iteration 4600) Training loss: 0.07407064735889435\n",
      "(Iteration 4700) Training loss: 0.12610115110874176\n",
      "(Iteration 4800) Training loss: 0.06513791531324387\n",
      "(Iteration 4900) Training loss: 0.08665753901004791\n",
      "(Iteration 5000) Training loss: 0.20204579830169678\n"
     ]
    },
    {
     "name": "stderr",
     "output_type": "stream",
     "text": [
      "07/18/2024 14:58:37 - INFO - finbert.utils -   *** Example ***\n",
      "07/18/2024 14:58:37 - INFO - finbert.utils -   guid: 0\n",
      "07/18/2024 14:58:37 - INFO - finbert.utils -   tokens: [CLS] rt ##p received money ##lion ins ##ta ##cas ##h 48 ##8 [SEP]\n",
      "07/18/2024 14:58:37 - INFO - finbert.utils -   input_ids: 101 19387 2361 2363 2769 18964 16021 2696 15671 2232 4466 2620 102 0 0 0 0 0 0 0 0 0 0 0 0 0 0 0 0 0 0 0 0 0 0 0 0 0 0 0 0 0 0 0 0 0 0 0\n",
      "07/18/2024 14:58:37 - INFO - finbert.utils -   attention_mask: 1 1 1 1 1 1 1 1 1 1 1 1 1 0 0 0 0 0 0 0 0 0 0 0 0 0 0 0 0 0 0 0 0 0 0 0 0 0 0 0 0 0 0 0 0 0 0 0\n",
      "07/18/2024 14:58:37 - INFO - finbert.utils -   token_type_ids: 0 0 0 0 0 0 0 0 0 0 0 0 0 0 0 0 0 0 0 0 0 0 0 0 0 0 0 0 0 0 0 0 0 0 0 0 0 0 0 0 0 0 0 0 0 0 0 0\n",
      "07/18/2024 14:58:37 - INFO - finbert.utils -   label: Loans (id = 0)\n",
      "07/18/2024 14:58:42 - INFO - finbert.finbert -   ***** Loading data *****\n",
      "07/18/2024 14:58:42 - INFO - finbert.finbert -     Num examples = 68739\n",
      "07/18/2024 14:58:42 - INFO - finbert.finbert -     Batch size = 32\n",
      "07/18/2024 14:58:42 - INFO - finbert.finbert -     Num steps = 21480\n"
     ]
    },
    {
     "data": {
      "application/vnd.jupyter.widget-view+json": {
       "model_id": "8206fbea81e046a4a4d6b27c1000bd11",
       "version_major": 2,
       "version_minor": 0
      },
      "text/plain": [
       "Validating:   0%|          | 0/2149 [00:00<?, ?it/s]"
      ]
     },
     "metadata": {},
     "output_type": "display_data"
    },
    {
     "name": "stdout",
     "output_type": "stream",
     "text": [
      "Validation losses: [1.0823279039673386, 0.567875035701726, 0.4626183950135518, 0.4138067854482121, 0.4124975941745671, 0.4031076118135075, 0.38278619712868706, 0.3806190205803063, 0.3842699571994552, 0.3820825545351281]\n",
      "Validation Accuracy: 0.9020\n"
     ]
    },
    {
     "name": "stderr",
     "output_type": "stream",
     "text": [
      "Epoch: 100%|██████████| 10/10 [3:46:57<00:00, 1361.76s/it]\n"
     ]
    }
   ],
   "source": [
    "trained_model = finbert.train(train_examples = train_examples, model = model, train_numeric_feats=numeric_feats)"
   ]
  },
  {
   "cell_type": "code",
   "execution_count": 13,
   "metadata": {},
   "outputs": [],
   "source": [
    "import pickle\n",
    "with open(\"./trained_model_3.pkl\", \"wb\") as f:\n",
    "    pickle.dump(trained_model, f)"
   ]
  },
  {
   "cell_type": "code",
   "execution_count": 29,
   "metadata": {},
   "outputs": [
    {
     "data": {
      "text/plain": [
       "(128,)"
      ]
     },
     "execution_count": 29,
     "metadata": {},
     "output_type": "execute_result"
    }
   ],
   "source": [
    "np.argmax(trained_model.cpu().detach().numpy(), -1).shape"
   ]
  },
  {
   "cell_type": "code",
   "execution_count": 14,
   "metadata": {},
   "outputs": [],
   "source": [
    "test_examples, test_numeric_feats = finbert.get_data(\"validation\")"
   ]
  },
  {
   "cell_type": "code",
   "execution_count": 15,
   "metadata": {},
   "outputs": [
    {
     "name": "stderr",
     "output_type": "stream",
     "text": [
      "07/18/2024 15:14:02 - INFO - finbert.utils -   *** Example ***\n",
      "07/18/2024 15:14:02 - INFO - finbert.utils -   guid: 0\n",
      "07/18/2024 15:14:02 - INFO - finbert.utils -   tokens: [CLS] rt ##p received money ##lion ins ##ta ##cas ##h 48 ##8 [SEP]\n",
      "07/18/2024 15:14:02 - INFO - finbert.utils -   input_ids: 101 19387 2361 2363 2769 18964 16021 2696 15671 2232 4466 2620 102 0 0 0 0 0 0 0 0 0 0 0 0 0 0 0 0 0 0 0 0 0 0 0 0 0 0 0 0 0 0 0 0 0 0 0\n",
      "07/18/2024 15:14:02 - INFO - finbert.utils -   attention_mask: 1 1 1 1 1 1 1 1 1 1 1 1 1 0 0 0 0 0 0 0 0 0 0 0 0 0 0 0 0 0 0 0 0 0 0 0 0 0 0 0 0 0 0 0 0 0 0 0\n",
      "07/18/2024 15:14:02 - INFO - finbert.utils -   token_type_ids: 0 0 0 0 0 0 0 0 0 0 0 0 0 0 0 0 0 0 0 0 0 0 0 0 0 0 0 0 0 0 0 0 0 0 0 0 0 0 0 0 0 0 0 0 0 0 0 0\n",
      "07/18/2024 15:14:02 - INFO - finbert.utils -   label: Loans (id = 0)\n"
     ]
    },
    {
     "name": "stderr",
     "output_type": "stream",
     "text": [
      "07/18/2024 15:14:07 - INFO - finbert.finbert -   ***** Loading data *****\n",
      "07/18/2024 15:14:07 - INFO - finbert.finbert -     Num examples = 68739\n",
      "07/18/2024 15:14:07 - INFO - finbert.finbert -     Batch size = 32\n",
      "07/18/2024 15:14:07 - INFO - finbert.finbert -     Num steps = 21480\n",
      "07/18/2024 15:14:07 - INFO - finbert.finbert -   ***** Running evaluation ***** \n",
      "07/18/2024 15:14:07 - INFO - finbert.finbert -     Num examples = 68739\n",
      "07/18/2024 15:14:07 - INFO - finbert.finbert -     Batch size = 32\n"
     ]
    },
    {
     "data": {
      "application/vnd.jupyter.widget-view+json": {
       "model_id": "c43f9b1bbc7e4a1e823d88ec989b2ea9",
       "version_major": 2,
       "version_minor": 0
      },
      "text/plain": [
       "Testing:   0%|          | 0/2149 [00:00<?, ?it/s]"
      ]
     },
     "metadata": {},
     "output_type": "display_data"
    },
    {
     "name": "stdout",
     "output_type": "stream",
     "text": [
      "Evaluation loss: 0.2722044852638089\n"
     ]
    }
   ],
   "source": [
    "results = finbert.evaluate(trained_model, test_examples, test_numeric_feats)"
   ]
  },
  {
   "cell_type": "code",
   "execution_count": 16,
   "metadata": {},
   "outputs": [],
   "source": [
    "preds = results[\"predictions\"].apply(lambda x: np.argmax(x, axis=0))"
   ]
  },
  {
   "cell_type": "code",
   "execution_count": 17,
   "metadata": {},
   "outputs": [],
   "source": [
    "label_mapping = {i:label for i, label in enumerate(finbert.label_list)}"
   ]
  },
  {
   "cell_type": "code",
   "execution_count": 18,
   "metadata": {},
   "outputs": [],
   "source": [
    "preds = [label_mapping[p] for p in preds]"
   ]
  },
  {
   "cell_type": "code",
   "execution_count": 19,
   "metadata": {},
   "outputs": [],
   "source": [
    "labels = [label_mapping[l] for l in results[\"labels\"]]"
   ]
  },
  {
   "cell_type": "code",
   "execution_count": 20,
   "metadata": {},
   "outputs": [
    {
     "name": "stderr",
     "output_type": "stream",
     "text": [
      "/home/student/anaconda3/envs/mls/lib/python3.7/site-packages/sklearn/metrics/classification.py:1437: UndefinedMetricWarning: Precision and F-score are ill-defined and being set to 0.0 in labels with no predicted samples.\n",
      "  'precision', 'predicted', average, warn_for)\n"
     ]
    },
    {
     "name": "stdout",
     "output_type": "stream",
     "text": [
      "                            precision    recall  f1-score   support\n",
      "\n",
      "                       ATM      0.995     0.999     0.997      1702\n",
      "    Arts and Entertainment      0.872     0.975     0.921       119\n",
      "                 Bank Fees      0.993     0.992     0.992      1940\n",
      "             Check Deposit      0.939     0.984     0.961        63\n",
      "  Clothing and Accessories      0.823     0.890     0.855       957\n",
      "        Convenience Stores      0.713     0.694     0.703      5589\n",
      "         Department Stores      0.636     0.842     0.724       601\n",
      "     Digital Entertainment      0.928     0.936     0.932      1358\n",
      "Food and Beverage Services      0.690     0.777     0.731       103\n",
      "              Gas Stations      0.459     0.584     0.514      3876\n",
      "  Gyms and Fitness Centers      0.633     0.905     0.745        21\n",
      "                Healthcare      0.629     0.710     0.667        62\n",
      "                 Insurance      0.955     0.892     0.922       526\n",
      "                  Interest      1.000     1.000     1.000        84\n",
      " Internal Account Transfer      0.998     0.981     0.989      3595\n",
      "                     Loans      0.978     0.958     0.968      5881\n",
      "                   Payment      0.917     0.917     0.917        12\n",
      "                   Payroll      0.975     0.944     0.959      2430\n",
      "               Restaurants      0.972     0.857     0.911      7910\n",
      "                   Service      0.592     0.817     0.686       273\n",
      "                     Shops      0.958     0.884     0.920      2225\n",
      "Supermarkets and Groceries      0.903     0.877     0.890      5025\n",
      "                Tax Refund      0.000     0.000     0.000         2\n",
      "Telecommunication Services      0.872     0.854     0.863        48\n",
      "               Third Party      0.992     0.984     0.988      8614\n",
      "           Transfer Credit      0.982     0.985     0.984      6729\n",
      "            Transfer Debit      0.981     0.974     0.977      6156\n",
      "          Transfer Deposit      0.942     0.987     0.964      1493\n",
      "                    Travel      0.676     0.836     0.748       110\n",
      "                 Utilities      0.828     0.961     0.889      1235\n",
      "\n",
      "                  accuracy                          0.902     68739\n",
      "                 macro avg      0.828     0.866     0.844     68739\n",
      "              weighted avg      0.912     0.902     0.906     68739\n",
      "\n"
     ]
    }
   ],
   "source": [
    "print(classification_report(labels, preds, digits=3))"
   ]
  },
  {
   "cell_type": "code",
   "execution_count": null,
   "metadata": {},
   "outputs": [],
   "source": []
  }
 ],
 "metadata": {
  "kernelspec": {
   "display_name": "finbert",
   "language": "python",
   "name": "python3"
  },
  "language_info": {
   "codemirror_mode": {
    "name": "ipython",
    "version": 3
   },
   "file_extension": ".py",
   "mimetype": "text/x-python",
   "name": "python",
   "nbconvert_exporter": "python",
   "pygments_lexer": "ipython3",
   "version": "3.7.3"
  }
 },
 "nbformat": 4,
 "nbformat_minor": 2
}
